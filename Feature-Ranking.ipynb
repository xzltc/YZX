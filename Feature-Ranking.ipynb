{
 "cells": [
  {
   "cell_type": "code",
   "execution_count": 72,
   "outputs": [],
   "source": [
    "import pandas as pd\n",
    "import numpy as np"
   ],
   "metadata": {
    "collapsed": false,
    "pycharm": {
     "name": "#%%\n"
    }
   }
  },
  {
   "cell_type": "code",
   "execution_count": 73,
   "outputs": [],
   "source": [
    "# 读取cvs训练数据集\n",
    "cvs_path = \"./data/csv/Molecular_Descriptor_train.csv\"\n",
    "df = pd.read_csv(cvs_path, index_col=0)"
   ],
   "metadata": {
    "collapsed": false,
    "pycharm": {
     "name": "#%%\n"
    }
   }
  },
  {
   "cell_type": "code",
   "execution_count": 74,
   "outputs": [
    {
     "data": {
      "text/plain": "                                              SMILES  nAcid   ALogP    ALogp2  \\\n0  Oc1ccc2O[C@H]([C@H](Sc2c1)C3CCCC3)c4ccc(OCCN5C...      0 -0.2860  0.081796   \n1  Oc1ccc2O[C@H]([C@H](Sc2c1)C3CCCCCC3)c4ccc(OCCN...      0 -0.8620  0.743044   \n2  Oc1ccc(cc1)[C@H]2Sc3cc(O)ccc3O[C@H]2c4ccc(OCCN...      0  0.7296  0.532316   \n3  Oc1ccc2O[C@H]([C@@H](CC3CCCCC3)Sc2c1)c4ccc(OCC...      0 -0.3184  0.101379   \n4  Oc1ccc2O[C@H]([C@@H](Cc3ccccc3)Sc2c1)c4ccc(OCC...      0  1.3551  1.836296   \n\n        AMR       apol  naAromAtom  nAromBond  nAtom  nHeavyAtom  ...  \\\n0  126.1188  74.170169          12         12     64          31  ...   \n1  131.9420  80.357341          12         12     70          33  ...   \n2  139.9304  74.064997          18         18     62          33  ...   \n3  133.4822  80.357341          12         12     70          33  ...   \n4  143.1903  76.356583          18         18     64          33  ...   \n\n      WTPT-1    WTPT-2     WTPT-3     WTPT-4    WTPT-5  WPATH  WPOL  XLogP  \\\n0  64.771680  2.089409  15.471445   8.858910  3.406628   3011    47  4.666   \n1  68.960024  2.089698  15.486947   8.863774  3.406648   3516    54  5.804   \n2  68.748923  2.083301  18.011114  11.390412  3.406644   3542    52  2.964   \n3  68.883696  2.087385  15.468365   8.857943  3.406624   3594    50  6.015   \n4  68.883696  2.087385  15.468365   8.857943  3.406624   3594    50  4.462   \n\n   Zagreb  pIC50  \n0     166  8.602  \n1     174  8.125  \n2     176  8.509  \n3     174  8.409  \n4     174  8.131  \n\n[5 rows x 731 columns]",
      "text/html": "<div>\n<style scoped>\n    .dataframe tbody tr th:only-of-type {\n        vertical-align: middle;\n    }\n\n    .dataframe tbody tr th {\n        vertical-align: top;\n    }\n\n    .dataframe thead th {\n        text-align: right;\n    }\n</style>\n<table border=\"1\" class=\"dataframe\">\n  <thead>\n    <tr style=\"text-align: right;\">\n      <th></th>\n      <th>SMILES</th>\n      <th>nAcid</th>\n      <th>ALogP</th>\n      <th>ALogp2</th>\n      <th>AMR</th>\n      <th>apol</th>\n      <th>naAromAtom</th>\n      <th>nAromBond</th>\n      <th>nAtom</th>\n      <th>nHeavyAtom</th>\n      <th>...</th>\n      <th>WTPT-1</th>\n      <th>WTPT-2</th>\n      <th>WTPT-3</th>\n      <th>WTPT-4</th>\n      <th>WTPT-5</th>\n      <th>WPATH</th>\n      <th>WPOL</th>\n      <th>XLogP</th>\n      <th>Zagreb</th>\n      <th>pIC50</th>\n    </tr>\n  </thead>\n  <tbody>\n    <tr>\n      <th>0</th>\n      <td>Oc1ccc2O[C@H]([C@H](Sc2c1)C3CCCC3)c4ccc(OCCN5C...</td>\n      <td>0</td>\n      <td>-0.2860</td>\n      <td>0.081796</td>\n      <td>126.1188</td>\n      <td>74.170169</td>\n      <td>12</td>\n      <td>12</td>\n      <td>64</td>\n      <td>31</td>\n      <td>...</td>\n      <td>64.771680</td>\n      <td>2.089409</td>\n      <td>15.471445</td>\n      <td>8.858910</td>\n      <td>3.406628</td>\n      <td>3011</td>\n      <td>47</td>\n      <td>4.666</td>\n      <td>166</td>\n      <td>8.602</td>\n    </tr>\n    <tr>\n      <th>1</th>\n      <td>Oc1ccc2O[C@H]([C@H](Sc2c1)C3CCCCCC3)c4ccc(OCCN...</td>\n      <td>0</td>\n      <td>-0.8620</td>\n      <td>0.743044</td>\n      <td>131.9420</td>\n      <td>80.357341</td>\n      <td>12</td>\n      <td>12</td>\n      <td>70</td>\n      <td>33</td>\n      <td>...</td>\n      <td>68.960024</td>\n      <td>2.089698</td>\n      <td>15.486947</td>\n      <td>8.863774</td>\n      <td>3.406648</td>\n      <td>3516</td>\n      <td>54</td>\n      <td>5.804</td>\n      <td>174</td>\n      <td>8.125</td>\n    </tr>\n    <tr>\n      <th>2</th>\n      <td>Oc1ccc(cc1)[C@H]2Sc3cc(O)ccc3O[C@H]2c4ccc(OCCN...</td>\n      <td>0</td>\n      <td>0.7296</td>\n      <td>0.532316</td>\n      <td>139.9304</td>\n      <td>74.064997</td>\n      <td>18</td>\n      <td>18</td>\n      <td>62</td>\n      <td>33</td>\n      <td>...</td>\n      <td>68.748923</td>\n      <td>2.083301</td>\n      <td>18.011114</td>\n      <td>11.390412</td>\n      <td>3.406644</td>\n      <td>3542</td>\n      <td>52</td>\n      <td>2.964</td>\n      <td>176</td>\n      <td>8.509</td>\n    </tr>\n    <tr>\n      <th>3</th>\n      <td>Oc1ccc2O[C@H]([C@@H](CC3CCCCC3)Sc2c1)c4ccc(OCC...</td>\n      <td>0</td>\n      <td>-0.3184</td>\n      <td>0.101379</td>\n      <td>133.4822</td>\n      <td>80.357341</td>\n      <td>12</td>\n      <td>12</td>\n      <td>70</td>\n      <td>33</td>\n      <td>...</td>\n      <td>68.883696</td>\n      <td>2.087385</td>\n      <td>15.468365</td>\n      <td>8.857943</td>\n      <td>3.406624</td>\n      <td>3594</td>\n      <td>50</td>\n      <td>6.015</td>\n      <td>174</td>\n      <td>8.409</td>\n    </tr>\n    <tr>\n      <th>4</th>\n      <td>Oc1ccc2O[C@H]([C@@H](Cc3ccccc3)Sc2c1)c4ccc(OCC...</td>\n      <td>0</td>\n      <td>1.3551</td>\n      <td>1.836296</td>\n      <td>143.1903</td>\n      <td>76.356583</td>\n      <td>18</td>\n      <td>18</td>\n      <td>64</td>\n      <td>33</td>\n      <td>...</td>\n      <td>68.883696</td>\n      <td>2.087385</td>\n      <td>15.468365</td>\n      <td>8.857943</td>\n      <td>3.406624</td>\n      <td>3594</td>\n      <td>50</td>\n      <td>4.462</td>\n      <td>174</td>\n      <td>8.131</td>\n    </tr>\n  </tbody>\n</table>\n<p>5 rows × 731 columns</p>\n</div>"
     },
     "execution_count": 74,
     "metadata": {},
     "output_type": "execute_result"
    }
   ],
   "source": [
    "# 表格头部\n",
    "df.head()"
   ],
   "metadata": {
    "collapsed": false,
    "pycharm": {
     "name": "#%%\n"
    }
   }
  },
  {
   "cell_type": "code",
   "execution_count": 75,
   "outputs": [
    {
     "name": "stdout",
     "output_type": "stream",
     "text": [
      "<class 'pandas.core.frame.DataFrame'>\n",
      "Int64Index: 1974 entries, 0 to 1973\n",
      "Columns: 731 entries, SMILES to pIC50\n",
      "dtypes: float64(360), int64(370), object(1)\n",
      "memory usage: 11.0+ MB\n"
     ]
    }
   ],
   "source": [
    "#表格信息\n",
    "df.info()"
   ],
   "metadata": {
    "collapsed": false,
    "pycharm": {
     "name": "#%%\n"
    }
   }
  },
  {
   "cell_type": "code",
   "execution_count": 86,
   "outputs": [
    {
     "name": "stdout",
     "output_type": "stream",
     "text": [
      "nAcid\n",
      "ALogP\n",
      "ALogp2\n",
      "AMR\n",
      "apol\n",
      "nAtom\n",
      "nHeavyAtom\n",
      "nH\n",
      "nC\n",
      "nN\n",
      "nO\n",
      "nS\n",
      "nP\n",
      "nCl\n",
      "nBr\n",
      "nI\n",
      "ATSc1\n",
      "ATSc2\n",
      "ATSc4\n",
      "ATSc5\n",
      "ATSm1\n",
      "ATSm2\n",
      "ATSm3\n",
      "ATSm4\n",
      "ATSm5\n",
      "ATSp1\n",
      "ATSp2\n",
      "ATSp3\n",
      "ATSp4\n",
      "ATSp5\n",
      "nBase\n",
      "nBonds\n",
      "nBonds2\n",
      "nBondsS\n",
      "nBondsS2\n",
      "nBondsS3\n",
      "nBondsD\n",
      "nBondsD2\n",
      "bpol\n",
      "C2SP1\n",
      "C1SP2\n",
      "C2SP3\n",
      "SCH-3\n",
      "SCH-4\n",
      "VCH-3\n",
      "VCH-4\n",
      "SC-3\n",
      "SC-5\n",
      "SC-6\n",
      "VC-3\n",
      "VC-6\n",
      "SPC-4\n",
      "SPC-5\n",
      "SP-0\n",
      "SP-1\n",
      "SP-2\n",
      "SP-3\n",
      "SP-4\n",
      "SP-5\n",
      "SP-6\n",
      "VP-0\n",
      "VP-1\n",
      "VP-2\n",
      "VP-3\n",
      "VP-4\n",
      "CrippenLogP\n",
      "CrippenMR\n",
      "ECCEN\n",
      "nHBd\n",
      "nwHBd\n",
      "nHBa\n",
      "nHBint2\n",
      "nHBint3\n",
      "nHBint5\n",
      "nHBint6\n",
      "nHBint7\n",
      "nHBint8\n",
      "nHBint9\n",
      "nHBint10\n",
      "nHdNH\n",
      "nHsSH\n",
      "nHsNH2\n",
      "nHssNH\n",
      "nHtCH\n",
      "nHCHnX\n",
      "nHCsats\n",
      "nHCsatu\n",
      "nssCH2\n",
      "ntCH\n",
      "nsssCH\n",
      "ndssC\n",
      "nsNH2\n",
      "ndNH\n",
      "nssNH\n",
      "nssssNp\n",
      "ndO\n",
      "nsOm\n",
      "ndsssP\n",
      "nsSH\n",
      "nssS\n",
      "ndssS\n",
      "nsCl\n",
      "nsBr\n",
      "nsI\n",
      "SHBd\n",
      "SwHBd\n",
      "SHBa\n",
      "SHBint2\n",
      "SHBint3\n",
      "SHBint4\n",
      "SHBint5\n",
      "SHBint6\n",
      "SHBint7\n",
      "SHBint8\n",
      "SHBint9\n",
      "SHBint10\n",
      "SHdNH\n",
      "SHsSH\n",
      "SHsNH2\n",
      "SHssNH\n",
      "SHtCH\n",
      "SHCHnX\n",
      "SHCsats\n",
      "SHCsatu\n",
      "StCH\n",
      "SsssCH\n",
      "StsC\n",
      "SdssC\n",
      "SaasC\n",
      "SssssC\n",
      "SsNH2\n",
      "SdNH\n",
      "SssNH\n",
      "SssssNp\n",
      "SdO\n",
      "SsOm\n",
      "SdsssP\n",
      "SsSH\n",
      "SdS\n",
      "SdssS\n",
      "SsCl\n",
      "SsBr\n",
      "SsI\n",
      "minwHBd\n",
      "minHdNH\n",
      "minHsSH\n",
      "minHtCH\n",
      "minHCHnX\n",
      "mintCH\n",
      "minsssCH\n",
      "mindNH\n",
      "minssssNp\n",
      "minsOm\n",
      "mindsssP\n",
      "minsSH\n",
      "mindS\n",
      "mindssS\n",
      "minsBr\n",
      "minsI\n",
      "maxwHBd\n",
      "maxwHBa\n",
      "maxHdNH\n",
      "maxHsSH\n",
      "maxHtCH\n",
      "maxHCHnX\n",
      "maxtCH\n",
      "maxssssC\n",
      "maxdNH\n",
      "maxssssNp\n",
      "maxsOm\n",
      "maxsSH\n",
      "maxdS\n",
      "maxsBr\n",
      "sumI\n",
      "DELS\n",
      "DELS2\n",
      "ETA_Alpha\n",
      "ETA_AlphaP\n",
      "ETA_dAlpha_A\n",
      "ETA_dPsi_B\n",
      "ETA_Beta\n",
      "ETA_Beta_s\n",
      "ETA_dBeta\n",
      "ETA_Eta\n",
      "ETA_Eta_R\n",
      "ETA_Eta_F\n",
      "ETA_Eta_L\n",
      "ETA_Eta_R_L\n",
      "ETA_Eta_F_L\n",
      "ETA_Eta_B\n",
      "ETA_Eta_B_RC\n",
      "fragC\n",
      "nHBAcc\n",
      "nHBAcc2\n",
      "nHBAcc3\n",
      "nHBAcc_Lipinski\n",
      "nHBDon\n",
      "nHBDon_Lipinski\n",
      "Kier1\n",
      "Kier2\n",
      "Kier3\n",
      "nAtomLC\n",
      "McGowan_Volume\n",
      "MDEC-11\n",
      "MDEC-13\n",
      "MDEC-33\n",
      "MDEO-11\n",
      "MDEO-22\n",
      "MDEN-11\n",
      "MDEN-12\n",
      "MDEN-13\n",
      "MDEN-22\n",
      "MDEN-23\n",
      "MLFER_A\n",
      "MLFER_BH\n",
      "MLFER_BO\n",
      "MLFER_S\n",
      "MLFER_E\n",
      "MLFER_L\n",
      "n3Ring\n",
      "n4Ring\n",
      "n8Ring\n",
      "n12Ring\n",
      "nG12Ring\n",
      "nF6Ring\n",
      "nF7Ring\n",
      "nF8Ring\n",
      "nF12Ring\n",
      "nT4Ring\n",
      "nT8Ring\n",
      "nT12Ring\n",
      "nRotB\n",
      "TopoPSA\n",
      "VABC\n",
      "MW\n",
      "WTPT-1\n",
      "WTPT-3\n",
      "WTPT-4\n",
      "WTPT-5\n",
      "WPATH\n",
      "WPOL\n",
      "XLogP\n",
      "Zagreb\n",
      "最终剩余变量 262\n",
      "225 243\n",
      "['nAcid', 'ALogP', 'ALogp2', 'AMR', 'apol', 'nAtom', 'nHeavyAtom', 'nH', 'nB', 'nC', 'nN', 'nO', 'nS', 'nP', 'nCl', 'nBr', 'nI', 'ATSc1', 'ATSc2', 'ATSc4', 'ATSc5', 'ATSm1', 'ATSm2', 'ATSm3', 'ATSm4', 'ATSm5', 'ATSp1', 'ATSp2', 'ATSp3', 'ATSp4', 'ATSp5', 'nBase', 'nBonds', 'nBonds2', 'nBondsS', 'nBondsS2', 'nBondsS3', 'nBondsD', 'nBondsD2', 'nBondsQ', 'bpol', 'C2SP1', 'C1SP2', 'C2SP3', 'SCH-3', 'SCH-4', 'VCH-3', 'VCH-4', 'SC-3', 'SC-5', 'SC-6', 'VC-3', 'VC-6', 'SPC-4', 'SPC-5', 'SP-0', 'SP-1', 'SP-2', 'SP-3', 'SP-4', 'SP-5', 'SP-6', 'VP-0', 'VP-1', 'VP-2', 'VP-3', 'VP-4', 'CrippenLogP', 'CrippenMR', 'ECCEN', 'nHBd', 'nwHBd', 'nHBa', 'nHBint2', 'nHBint3', 'nHBint5', 'nHBint6', 'nHBint7', 'nHBint8', 'nHBint9', 'nHBint10', 'nHdNH', 'nHsSH', 'nHsNH2', 'nHssNH', 'nHsNH3p', 'nHssNH2p', 'nHsssNHp', 'nHtCH', 'nHCHnX', 'nHCsats', 'nHCsatu', 'nHmisc', 'nsLi', 'nssBe', 'nssssBem', 'nsBH2', 'nssBH', 'nsssB', 'nssssBm', 'nssCH2', 'ntCH', 'nsssCH', 'nddC', 'ndssC', 'nsNH3p', 'nsNH2', 'nssNH2p', 'ndNH', 'nssNH', 'nsssNHp', 'nddsN', 'nssssNp', 'ndO', 'naOm', 'nsOm', 'nsSiH3', 'nssSiH2', 'nsssSiH', 'nssssSi', 'nsPH2', 'nssPH', 'nsssP', 'ndsssP', 'nddsP', 'nsssssP', 'nsSH', 'nssS', 'ndssS', 'nssssssS', 'nSm', 'nsCl', 'nsGeH3', 'nssGeH2', 'nsssGeH', 'nssssGe', 'nsAsH2', 'nssAsH', 'nsssAs', 'ndsssAs', 'nddsAs', 'nsssssAs', 'nsSeH', 'ndSe', 'nssSe', 'naaSe', 'ndssSe', 'nssssssSe', 'nddssSe', 'nsBr', 'nsSnH3', 'nssSnH2', 'nsssSnH', 'nssssSn', 'nsI', 'nsPbH3', 'nssPbH2', 'nsssPbH', 'nssssPb', 'SHBd', 'SwHBd', 'SHBa', 'SHBint2', 'SHBint3', 'SHBint4', 'SHBint5', 'SHBint6', 'SHBint7', 'SHBint8', 'SHBint9', 'SHBint10', 'SHdNH', 'SHsSH', 'SHsNH2', 'SHssNH', 'SHsNH3p', 'SHssNH2p', 'SHsssNHp', 'SHtCH', 'SHCHnX', 'SHCsats', 'SHCsatu', 'SHmisc', 'SsLi', 'SssBe', 'SssssBem', 'SsBH2', 'SssBH', 'SsssB', 'SssssBm', 'StCH', 'SsssCH', 'SddC', 'StsC', 'SdssC', 'SaasC', 'SssssC', 'SsNH3p', 'SsNH2', 'SssNH2p', 'SdNH', 'SssNH', 'SsssNHp', 'SddsN', 'SssssNp', 'SdO', 'SaOm', 'SsOm', 'SsSiH3', 'SssSiH2', 'SsssSiH', 'SssssSi', 'SsPH2', 'SssPH', 'SsssP', 'SdsssP', 'SddsP', 'SsssssP', 'SsSH', 'SdS', 'SdssS', 'SssssssS', 'SSm', 'SsCl', 'SsGeH3', 'SssGeH2', 'SsssGeH', 'SssssGe', 'SsAsH2', 'SssAsH', 'SsssAs', 'SdsssAs', 'SddsAs', 'SsssssAs', 'SsSeH', 'SdSe', 'SssSe', 'SaaSe', 'SdssSe', 'SssssssSe', 'SddssSe', 'SsBr', 'SsSnH3', 'SssSnH2', 'SsssSnH', 'SssssSn', 'SsI', 'SsPbH3', 'SssPbH2', 'SsssPbH', 'SssssPb', 'minwHBd', 'minHdNH', 'minHsSH', 'minHsNH3p', 'minHssNH2p', 'minHsssNHp', 'minHtCH', 'minHCHnX', 'minHmisc', 'minsLi', 'minssBe', 'minssssBem', 'minsBH2', 'minssBH', 'minsssB', 'minssssBm', 'mintCH', 'minsssCH', 'minddC', 'minsNH3p', 'minssNH2p', 'mindNH', 'minsssNHp', 'minddsN', 'minssssNp', 'minaOm', 'minsOm', 'minsSiH3', 'minssSiH2', 'minsssSiH', 'minssssSi', 'minsPH2', 'minssPH', 'minsssP', 'mindsssP', 'minddsP', 'minsssssP', 'minsSH', 'mindS', 'mindssS', 'minssssssS', 'minSm', 'minsGeH3', 'minssGeH2', 'minsssGeH', 'minssssGe', 'minsAsH2', 'minssAsH', 'minsssAs', 'mindsssAs', 'minddsAs', 'minsssssAs', 'minsSeH', 'mindSe', 'minssSe', 'minaaSe', 'mindssSe', 'minssssssSe', 'minddssSe', 'minsBr', 'minsSnH3', 'minssSnH2', 'minsssSnH', 'minssssSn', 'minsI', 'minsPbH3', 'minssPbH2', 'minsssPbH', 'minssssPb', 'maxwHBd', 'maxwHBa', 'maxHdNH', 'maxHsSH', 'maxHsNH3p', 'maxHssNH2p', 'maxHsssNHp', 'maxHtCH', 'maxHCHnX', 'maxHmisc', 'maxsLi', 'maxssBe', 'maxssssBem', 'maxsBH2', 'maxssBH', 'maxsssB', 'maxssssBm', 'maxtCH', 'maxddC', 'maxssssC', 'maxsNH3p', 'maxssNH2p', 'maxdNH', 'maxsssNHp', 'maxddsN', 'maxssssNp', 'maxaOm', 'maxsOm', 'maxsSiH3', 'maxssSiH2', 'maxsssSiH', 'maxssssSi', 'maxsPH2', 'maxssPH', 'maxsssP', 'maxdsssP', 'maxddsP', 'maxsssssP', 'maxsSH', 'maxdS', 'maxssS', 'maxaaS', 'maxdssS', 'maxddssS', 'maxssssssS', 'maxSm', 'maxsGeH3', 'maxssGeH2', 'maxsssGeH', 'maxssssGe', 'maxsAsH2', 'maxssAsH', 'maxsssAs', 'maxdsssAs', 'maxddsAs', 'maxsssssAs', 'maxsSeH', 'maxdSe', 'maxssSe', 'maxaaSe', 'maxdssSe', 'maxssssssSe', 'maxddssSe', 'maxsBr', 'maxsSnH3', 'maxssSnH2', 'maxsssSnH', 'maxssssSn', 'maxsI', 'maxsPbH3', 'maxssPbH2', 'maxsssPbH', 'maxssssPb', 'sumI', 'DELS', 'DELS2', 'ETA_Alpha', 'ETA_AlphaP', 'ETA_dAlpha_A', 'ETA_dPsi_B', 'ETA_Beta', 'ETA_Beta_s', 'ETA_dBeta', 'ETA_Eta', 'ETA_Eta_R', 'ETA_Eta_F', 'ETA_Eta_L', 'ETA_Eta_R_L', 'ETA_Eta_F_L', 'ETA_Eta_B', 'ETA_Eta_B_RC', 'fragC', 'nHBAcc', 'nHBAcc2', 'nHBAcc3', 'nHBAcc_Lipinski', 'nHBDon', 'nHBDon_Lipinski', 'Kier1', 'Kier2', 'Kier3', 'nAtomLC', 'McGowan_Volume', 'MDEC-11', 'MDEC-13', 'MDEC-33', 'MDEO-11', 'MDEO-22', 'MDEN-11', 'MDEN-12', 'MDEN-13', 'MDEN-22', 'MDEN-23', 'MLFER_A', 'MLFER_BH', 'MLFER_BO', 'MLFER_S', 'MLFER_E', 'MLFER_L', 'n3Ring', 'n4Ring', 'n8Ring', 'n9Ring', 'n10Ring', 'n11Ring', 'n12Ring', 'nG12Ring', 'nF4Ring', 'nF5Ring', 'nF6Ring', 'nF7Ring', 'nF8Ring', 'nF12Ring', 'nT4Ring', 'nT8Ring', 'nT12Ring', 'nRotB', 'TopoPSA', 'VABC', 'MW', 'WTPT-1', 'WTPT-3', 'WTPT-4', 'WTPT-5', 'WPATH', 'WPOL', 'XLogP', 'Zagreb']\n"
     ]
    }
   ],
   "source": [
    "# 去除sum为0的列\n",
    "sum_zero_count = 0\n",
    "var_count = 0\n",
    "delete = []\n",
    "for index, row in df.iteritems():\n",
    "    if index != \"SMILES\" and index != \"pIC50\":\n",
    "        #计算该列和\n",
    "        row = (row - row.min()) / (row.max() - row.min())\n",
    "\n",
    "        if df[index].sum() == 0:\n",
    "            df[index] = row\n",
    "            delete.append((index))\n",
    "            sum_zero_count = sum_zero_count + 1\n",
    "            continue\n",
    "\n",
    "        if row.var() < 0.005:\n",
    "            r = row.var()\n",
    "            var_count = var_count + 1\n",
    "            print(index)\n",
    "            delete.append((index))\n",
    "\n",
    "final_sum = df.shape[1] - 1 - var_count - sum_zero_count\n",
    "print(\"最终剩余变量\", final_sum)\n",
    "print(sum_zero_count, var_count)\n",
    "print(delete)\n",
    "#删除sum为0后的数据\n",
    "deleted_df = df.drop(delete, axis=1)"
   ],
   "metadata": {
    "collapsed": false,
    "pycharm": {
     "name": "#%%\n"
    }
   }
  },
  {
   "cell_type": "code",
   "execution_count": 85,
   "outputs": [
    {
     "data": {
      "text/plain": "0       Oc1ccc2O[C@H]([C@H](Sc2c1)C3CCCC3)c4ccc(OCCN5C...\n1       Oc1ccc2O[C@H]([C@H](Sc2c1)C3CCCCCC3)c4ccc(OCCN...\n2       Oc1ccc(cc1)[C@H]2Sc3cc(O)ccc3O[C@H]2c4ccc(OCCN...\n3       Oc1ccc2O[C@H]([C@@H](CC3CCCCC3)Sc2c1)c4ccc(OCC...\n4       Oc1ccc2O[C@H]([C@@H](Cc3ccccc3)Sc2c1)c4ccc(OCC...\n                              ...                        \n1969    COc1cc(OC)cc(\\C=C\\c2cccc(OS(=O)(=O)C3CC4OC3C(=...\n1970    Oc1ccc(cc1)C2=C(C3OC2CC3S(=O)(=O)Oc4cccc(\\C=C\\...\n1971    Oc1ccc(cc1)C2=C(C3OC2CC3S(=O)(=O)Oc4ccc(\\C=C\\c...\n1972    Oc1ccc(cc1)C2=C([C@H]3O[C@H]2C[C@@H]3S(=O)(=O)...\n1973    COc1cc(OC)cc(\\C=C\\c2ccc(OS(=O)(=O)[C@H]3C[C@H]...\nName: SMILES, Length: 1974, dtype: object"
     },
     "execution_count": 85,
     "metadata": {},
     "output_type": "execute_result"
    }
   ],
   "source": [
    "deleted_df[\"SMILES\"]"
   ],
   "metadata": {
    "collapsed": false,
    "pycharm": {
     "name": "#%%\n"
    }
   }
  },
  {
   "cell_type": "code",
   "execution_count": 67,
   "outputs": [
    {
     "ename": "TypeError",
     "evalue": "fit_transform() missing 1 required positional argument: 'X'",
     "output_type": "error",
     "traceback": [
      "\u001B[0;31m---------------------------------------------------------------------------\u001B[0m",
      "\u001B[0;31mTypeError\u001B[0m                                 Traceback (most recent call last)",
      "\u001B[0;32m/var/folders/mv/gxn_yk051wb35yzf17r34xp40000gn/T/ipykernel_17611/2747160644.py\u001B[0m in \u001B[0;36m<module>\u001B[0;34m\u001B[0m\n\u001B[1;32m      3\u001B[0m \u001B[0;34m\u001B[0m\u001B[0m\n\u001B[1;32m      4\u001B[0m \u001B[0mselector\u001B[0m \u001B[0;34m=\u001B[0m \u001B[0mVarianceThreshold\u001B[0m\u001B[0;34m(\u001B[0m\u001B[0;34m)\u001B[0m\u001B[0;34m\u001B[0m\u001B[0;34m\u001B[0m\u001B[0m\n\u001B[0;32m----> 5\u001B[0;31m \u001B[0mselector\u001B[0m\u001B[0;34m.\u001B[0m\u001B[0mfit_transform\u001B[0m\u001B[0;34m(\u001B[0m\u001B[0;34m)\u001B[0m\u001B[0;34m\u001B[0m\u001B[0;34m\u001B[0m\u001B[0m\n\u001B[0m\u001B[1;32m      6\u001B[0m \u001B[0;34m\u001B[0m\u001B[0m\n",
      "\u001B[0;31mTypeError\u001B[0m: fit_transform() missing 1 required positional argument: 'X'"
     ]
    }
   ],
   "source": [
    "# 零方差\n",
    "from sklearn.feature_selection import VarianceThreshold\n",
    "\n",
    "selector = VarianceThreshold()\n",
    "selector.fit_transform()"
   ],
   "metadata": {
    "collapsed": false,
    "pycharm": {
     "name": "#%%\n"
    }
   }
  },
  {
   "cell_type": "code",
   "execution_count": null,
   "outputs": [],
   "source": [
    "# X = 训练集（排除名称和pIC50）\n",
    "# X = df.drop(['SMILES', 'pIC50'], axis=1)\n",
    "X = df.iloc[:, np.r_[2:42]]\n",
    "y = df['pIC50']\n"
   ],
   "metadata": {
    "collapsed": false,
    "pycharm": {
     "name": "#%%\n"
    }
   }
  },
  {
   "cell_type": "code",
   "execution_count": null,
   "outputs": [],
   "source": [
    "# 分割数据集\n",
    "from sklearn.model_selection import train_test_split\n",
    "\n",
    "X_train, X_test, y_train, y_test = train_test_split(X, y, test_size=0.01, random_state=0, shuffle=False)"
   ],
   "metadata": {
    "collapsed": false,
    "pycharm": {
     "name": "#%%\n"
    }
   }
  },
  {
   "cell_type": "code",
   "execution_count": null,
   "outputs": [],
   "source": [
    "# 导入构建模型所需包\n",
    "from sklearn.pipeline import Pipeline\n",
    "from sklearn.model_selection import RepeatedStratifiedKFold\n",
    "from sklearn.feature_selection import RFE\n",
    "from sklearn.model_selection import cross_val_score\n",
    "from sklearn.svm import SVR"
   ],
   "metadata": {
    "collapsed": false,
    "pycharm": {
     "name": "#%%\n"
    }
   }
  },
  {
   "cell_type": "code",
   "execution_count": null,
   "outputs": [],
   "source": [
    "feature_number = 20  #特征数\n",
    "svr = SVR(kernel=\"linear\", C=1.0, epsilon=0.1)\n",
    "rfe = RFE(estimator=svr, n_features_to_select=feature_number)"
   ],
   "metadata": {
    "collapsed": false,
    "pycharm": {
     "name": "#%%\n"
    }
   }
  },
  {
   "cell_type": "code",
   "execution_count": null,
   "outputs": [],
   "source": [
    "model = svr"
   ],
   "metadata": {
    "collapsed": false,
    "pycharm": {
     "name": "#%%\n"
    }
   }
  },
  {
   "cell_type": "code",
   "execution_count": null,
   "outputs": [],
   "source": [
    "rfe.fit(X_test, y_test)"
   ],
   "metadata": {
    "collapsed": false,
    "pycharm": {
     "name": "#%%\n"
    }
   }
  },
  {
   "cell_type": "code",
   "execution_count": null,
   "outputs": [],
   "source": [
    "rfe.support_\n"
   ],
   "metadata": {
    "collapsed": false,
    "pycharm": {
     "name": "#%%\n"
    }
   }
  },
  {
   "cell_type": "code",
   "execution_count": null,
   "outputs": [],
   "source": [
    "pd.DataFrame(rfe.support_, index=X_test.columns, columns=['Rank'])"
   ],
   "metadata": {
    "collapsed": false,
    "pycharm": {
     "name": "#%%\n"
    }
   }
  },
  {
   "cell_type": "code",
   "execution_count": null,
   "outputs": [],
   "source": [
    "pd.DataFrame(rfe.ranking_, index=X_test.columns, columns=['Rank']).sort_values(by='Rank', ascending=True).head(20)"
   ],
   "metadata": {
    "collapsed": false,
    "pycharm": {
     "name": "#%%\n"
    }
   }
  },
  {
   "cell_type": "code",
   "execution_count": null,
   "outputs": [],
   "source": [],
   "metadata": {
    "collapsed": false,
    "pycharm": {
     "name": "#%%\n"
    }
   }
  }
 ],
 "metadata": {
  "kernelspec": {
   "name": "pycharm-a2fdb3f7",
   "language": "python",
   "display_name": "PyCharm (YZX)"
  },
  "language_info": {
   "codemirror_mode": {
    "name": "ipython",
    "version": 2
   },
   "file_extension": ".py",
   "mimetype": "text/x-python",
   "name": "python",
   "nbconvert_exporter": "python",
   "pygments_lexer": "ipython2",
   "version": "2.7.6"
  }
 },
 "nbformat": 4,
 "nbformat_minor": 0
}