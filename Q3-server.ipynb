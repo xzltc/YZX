{
 "cells": [
  {
   "cell_type": "code",
   "execution_count": 1,
   "metadata": {
    "collapsed": true
   },
   "outputs": [],
   "source": [
    "import numpy as np\n",
    "import pandas as pd\n",
    "from FS import feature_select, delete_zero_and_var\n",
    "import matplotlib.pyplot as plt\n",
    "\n",
    "from sklearn.datasets import load_breast_cancer\n",
    "from sklearn.neighbors import KNeighborsClassifier  #KNN\n",
    "from sklearn.linear_model import LogisticRegression  #Logistic Regression\n",
    "from sklearn.tree import DecisionTreeClassifier  #Decision Tree\n",
    "from sklearn.ensemble import RandomForestClassifier  #Random Forest\n",
    "from sklearn.neural_network import MLPClassifier  #Neural Network\n",
    "from sklearn.svm import SVC  #SVM\n",
    "from sklearn.model_selection import train_test_split, cross_val_score\n",
    "from sklearn.preprocessing import StandardScaler\n",
    "from sklearn.tree import export_graphviz\n",
    "from sklearn.model_selection import GridSearchCV\n",
    "from sklearn.metrics import accuracy_score, precision_score, recall_score, f1_score, cohen_kappa_score, roc_curve,classification_report\n",
    "from sklearn.metrics import roc_auc_score as AUC\n",
    "\n",
    "import matplotlib.pylab as plt\n",
    "import numpy as np"
   ]
  },
  {
   "cell_type": "code",
   "execution_count": 2,
   "outputs": [],
   "source": [
    "# 读取cvs训练数据集\n",
    "cvs_path = \"./data/csv/Molecular_Descriptor_train.csv\"\n",
    "df = pd.read_csv(cvs_path, index_col=0)\n",
    "cvs_path2 = \"./data/csv/ADMET_train.csv\"\n",
    "df_admet = pd.read_csv(cvs_path2, index_col=0)\n"
   ],
   "metadata": {
    "collapsed": false,
    "pycharm": {
     "name": "#%%\n"
    }
   }
  },
  {
   "cell_type": "code",
   "execution_count": 29,
   "outputs": [
    {
     "name": "stdout",
     "output_type": "stream",
     "text": [
      "(1974, 729) (1974,)\n"
     ]
    }
   ],
   "source": [
    "# 数据分割\n",
    "\n",
    "X = df.drop(['SMILES', 'pIC50'], axis=1)\n",
    "y1 = df_admet[\"Caco-2\"]\n",
    "y2 = df_admet[\"CYP3A4\"]\n",
    "y3 = df_admet[\"hERG\"]\n",
    "y4 = df_admet[\"HOB\"]\n",
    "y5 = df_admet[\"MN\"]\n",
    "print(X.shape, y1.shape)"
   ],
   "metadata": {
    "collapsed": false,
    "pycharm": {
     "name": "#%%\n"
    }
   }
  },
  {
   "cell_type": "code",
   "execution_count": 4,
   "outputs": [
    {
     "name": "stdout",
     "output_type": "stream",
     "text": [
      "最终剩余特征数 331\n",
      "sum=0特征:  225 方差过小特征:  172\n",
      "['ALogP', 'ALogp2', 'AMR', 'apol', 'nAtom', 'nHeavyAtom', 'nH', 'nB', 'nN', 'nP', 'nCl', 'nI', 'ATSc1', 'ATSc2', 'ATSc4', 'ATSc5', 'ATSm1', 'ATSm2', 'ATSm3', 'ATSm4', 'ATSm5', 'ATSp1', 'ATSp2', 'nBase', 'nBonds', 'nBonds2', 'nBondsS', 'nBondsS2', 'nBondsS3', 'nBondsD2', 'nBondsQ', 'bpol', 'C1SP2', 'VCH-4', 'SC-3', 'SC-6', 'SPC-4', 'SP-0', 'SP-1', 'SP-2', 'SP-3', 'VP-0', 'VP-1', 'VP-2', 'CrippenLogP', 'CrippenMR', 'ECCEN', 'nHBd', 'nwHBd', 'nHBa', 'nHBint2', 'nHBint3', 'nHBint5', 'nHBint6', 'nHBint7', 'nHBint8', 'nHBint9', 'nHBint10', 'nHdNH', 'nHsSH', 'nHsNH2', 'nHssNH', 'nHsNH3p', 'nHssNH2p', 'nHsssNHp', 'nHCsatu', 'nHmisc', 'nsLi', 'nssBe', 'nssssBem', 'nsBH2', 'nssBH', 'nsssB', 'nssssBm', 'nddC', 'ndssC', 'nsNH3p', 'nsNH2', 'nssNH2p', 'ndNH', 'nssNH', 'nsssNHp', 'nddsN', 'nssssNp', 'ndO', 'naOm', 'nsOm', 'nsSiH3', 'nssSiH2', 'nsssSiH', 'nssssSi', 'nsPH2', 'nssPH', 'nsssP', 'ndsssP', 'nddsP', 'nsssssP', 'nsSH', 'nssS', 'ndssS', 'nssssssS', 'nSm', 'nsCl', 'nsGeH3', 'nssGeH2', 'nsssGeH', 'nssssGe', 'nsAsH2', 'nssAsH', 'nsssAs', 'ndsssAs', 'nddsAs', 'nsssssAs', 'nsSeH', 'ndSe', 'nssSe', 'naaSe', 'ndssSe', 'nssssssSe', 'nddssSe', 'nsSnH3', 'nssSnH2', 'nsssSnH', 'nssssSn', 'nsI', 'nsPbH3', 'nssPbH2', 'nsssPbH', 'nssssPb', 'SHBd', 'SwHBd', 'SHBa', 'SHBint2', 'SHBint3', 'SHBint5', 'SHBint6', 'SHBint7', 'SHBint8', 'SHBint9', 'SHBint10', 'SHdNH', 'SHsSH', 'SHsNH2', 'SHssNH', 'SHsNH3p', 'SHssNH2p', 'SHsssNHp', 'SHCHnX', 'SHCsats', 'SHCsatu', 'SHmisc', 'SsLi', 'SssBe', 'SssssBem', 'SsBH2', 'SssBH', 'SsssB', 'SssssBm', 'SsssCH', 'SddC', 'SdssC', 'SsNH3p', 'SsNH2', 'SssNH2p', 'SdNH', 'SssNH', 'SsssNHp', 'SddsN', 'SssssNp', 'SdO', 'SaOm', 'SsOm', 'SsSiH3', 'SssSiH2', 'SsssSiH', 'SssssSi', 'SsPH2', 'SssPH', 'SsssP', 'SdsssP', 'SddsP', 'SsssssP', 'SsSH', 'SdS', 'SdssS', 'SssssssS', 'SSm', 'SsCl', 'SsGeH3', 'SssGeH2', 'SsssGeH', 'SssssGe', 'SsAsH2', 'SssAsH', 'SsssAs', 'SdsssAs', 'SddsAs', 'SsssssAs', 'SsSeH', 'SdSe', 'SssSe', 'SaaSe', 'SdssSe', 'SssssssSe', 'SddssSe', 'SsBr', 'SsSnH3', 'SssSnH2', 'SsssSnH', 'SssssSn', 'SsI', 'SsPbH3', 'SssPbH2', 'SsssPbH', 'SssssPb', 'minHsSH', 'minHsNH3p', 'minHssNH2p', 'minHsssNHp', 'minHmisc', 'minsLi', 'minssBe', 'minssssBem', 'minsBH2', 'minssBH', 'minsssB', 'minssssBm', 'minddC', 'minsNH3p', 'minssNH2p', 'minsssNHp', 'minddsN', 'minssssNp', 'minaOm', 'minsSiH3', 'minssSiH2', 'minsssSiH', 'minssssSi', 'minsPH2', 'minssPH', 'minsssP', 'mindsssP', 'minddsP', 'minsssssP', 'minsSH', 'mindS', 'mindssS', 'minssssssS', 'minSm', 'minsGeH3', 'minssGeH2', 'minsssGeH', 'minssssGe', 'minsAsH2', 'minssAsH', 'minsssAs', 'mindsssAs', 'minddsAs', 'minsssssAs', 'minsSeH', 'mindSe', 'minssSe', 'minaaSe', 'mindssSe', 'minssssssSe', 'minddssSe', 'minsBr', 'minsSnH3', 'minssSnH2', 'minsssSnH', 'minssssSn', 'minsI', 'minsPbH3', 'minssPbH2', 'minsssPbH', 'minssssPb', 'maxHsSH', 'maxHsNH3p', 'maxHssNH2p', 'maxHsssNHp', 'maxHmisc', 'maxsLi', 'maxssBe', 'maxssssBem', 'maxsBH2', 'maxssBH', 'maxsssB', 'maxssssBm', 'maxddC', 'maxsNH3p', 'maxssNH2p', 'maxsssNHp', 'maxddsN', 'maxssssNp', 'maxaOm', 'maxsSiH3', 'maxssSiH2', 'maxsssSiH', 'maxssssSi', 'maxsPH2', 'maxssPH', 'maxsssP', 'maxdsssP', 'maxddsP', 'maxsssssP', 'maxsSH', 'maxdS', 'maxssS', 'maxaaS', 'maxdssS', 'maxddssS', 'maxssssssS', 'maxSm', 'maxsGeH3', 'maxssGeH2', 'maxsssGeH', 'maxssssGe', 'maxsAsH2', 'maxssAsH', 'maxsssAs', 'maxdsssAs', 'maxddsAs', 'maxsssssAs', 'maxsSeH', 'maxdSe', 'maxssSe', 'maxaaSe', 'maxdssSe', 'maxssssssSe', 'maxddssSe', 'maxsSnH3', 'maxssSnH2', 'maxsssSnH', 'maxssssSn', 'maxsI', 'maxsPbH3', 'maxssPbH2', 'maxsssPbH', 'maxssssPb', 'sumI', 'DELS', 'DELS2', 'ETA_Alpha', 'ETA_dAlpha_A', 'ETA_dPsi_B', 'ETA_Beta', 'ETA_Beta_s', 'ETA_dBeta', 'ETA_Eta', 'ETA_Eta_R', 'ETA_Eta_F', 'ETA_Eta_L', 'ETA_Eta_R_L', 'ETA_Eta_B', 'ETA_Eta_B_RC', 'fragC', 'nHBAcc', 'nHBAcc2', 'nHBAcc3', 'nHBAcc_Lipinski', 'nHBDon', 'nHBDon_Lipinski', 'Kier1', 'Kier2', 'Kier3', 'nAtomLC', 'McGowan_Volume', 'MDEN-11', 'MDEN-12', 'MDEN-13', 'MLFER_A', 'MLFER_BH', 'MLFER_BO', 'MLFER_S', 'MLFER_E', 'MLFER_L', 'n4Ring', 'n8Ring', 'n9Ring', 'n10Ring', 'n11Ring', 'n12Ring', 'nG12Ring', 'nF4Ring', 'nF5Ring', 'nF7Ring', 'nT4Ring', 'nRotB', 'TopoPSA', 'VABC', 'MW', 'WTPT-1', 'WTPT-3', 'WTPT-5', 'WPATH', 'WPOL', 'Zagreb']\n",
      "      nAcid  naAromAtom  nAromBond  nC  nO  nS  nF  nBr  nX     ATSc3  ...  \\\n",
      "0         0          12         12  26   3   1   0    0   0 -0.126453  ...   \n",
      "1         0          12         12  28   3   1   0    0   0 -0.126453  ...   \n",
      "2         0          18         18  27   4   1   0    0   0 -0.143126  ...   \n",
      "3         0          12         12  28   3   1   0    0   0 -0.126504  ...   \n",
      "4         0          18         18  28   3   1   0    0   0 -0.128690  ...   \n",
      "...     ...         ...        ...  ..  ..  ..  ..  ...  ..       ...  ...   \n",
      "1969      0          24         24  34   8   1   0    0   0  0.060040  ...   \n",
      "1970      0          24         24  32   8   1   0    0   0  0.051389  ...   \n",
      "1971      0          24         24  32   8   1   0    0   0  0.051394  ...   \n",
      "1972      0          18         18  24   6   1   0    0   0  0.060397  ...   \n",
      "1973      0          24         24  34   8   1   0    0   0  0.060045  ...   \n",
      "\n",
      "      nT9Ring  nT10Ring  nT11Ring  nT12Ring  nTG12Ring  LipinskiFailures  \\\n",
      "0           0         1         0         0          0                 0   \n",
      "1           0         1         0         0          0                 1   \n",
      "2           0         1         0         0          0                 0   \n",
      "3           0         1         0         0          0                 1   \n",
      "4           0         1         0         0          0                 0   \n",
      "...       ...       ...       ...       ...        ...               ...   \n",
      "1969        0         0         0         0          0                 0   \n",
      "1970        0         0         0         0          0                 0   \n",
      "1971        0         0         0         0          0                 0   \n",
      "1972        0         0         0         0          0                 0   \n",
      "1973        0         0         0         0          0                 0   \n",
      "\n",
      "       VAdjMat    WTPT-2     WTPT-4  XLogP  \n",
      "0     5.954196  2.089409   8.858910  4.666  \n",
      "1     6.044394  2.089698   8.863774  5.804  \n",
      "2     6.044394  2.083301  11.390412  2.964  \n",
      "3     6.044394  2.087385   8.857943  6.015  \n",
      "4     6.044394  2.087385   8.857943  4.462  \n",
      "...        ...       ...        ...    ...  \n",
      "1969  6.426265  2.063023  21.946991  2.526  \n",
      "1970  6.357552  2.064929  21.405589  1.884  \n",
      "1971  6.357552  2.064894  21.400883  1.884  \n",
      "1972  5.954196  2.070043  16.326873  0.782  \n",
      "1973  6.426265  2.062989  21.942236  2.526  \n",
      "\n",
      "[1974 rows x 332 columns]\n"
     ]
    }
   ],
   "source": [
    "# 特征选择\n",
    "no_zero_X = delete_zero_and_var(X, 0.005)  #输入\n",
    "# 提取后的总训练集和选择的列Name\n",
    "# X_train, X_test, y_train, y_test = train_test_split(no_zero_X, y2, test_size=0.2, random_state=0, shuffle=False)\n",
    "print(no_zero_X)\n"
   ],
   "metadata": {
    "collapsed": false,
    "pycharm": {
     "name": "#%%\n"
    }
   }
  },
  {
   "cell_type": "code",
   "execution_count": 197,
   "outputs": [
    {
     "name": "stdout",
     "output_type": "stream",
     "text": [
      "建立的SVM模型为： SVC(C=100, gamma=0.001)\n",
      "              precision    recall  f1-score   support\n",
      "\n",
      "           0       0.90      0.91      0.91       143\n",
      "           1       0.97      0.97      0.97       450\n",
      "\n",
      "    accuracy                           0.95       593\n",
      "   macro avg       0.94      0.94      0.94       593\n",
      "weighted avg       0.95      0.95      0.95       593\n",
      "\n",
      "正确： 566 错误： 27\n",
      "准确率为： 0.954468802698145\n",
      "精确率为： 0.9710467706013363\n",
      "召回率为： 0.9688888888888889\n",
      "F1值为： 0.9699666295884315\n"
     ]
    },
    {
     "data": {
      "text/plain": "<Figure size 432x288 with 1 Axes>",
      "image/png": "[encoded data removed]"
     },
     "metadata": {
      "needs_background": "light"
     },
     "output_type": "display_data"
    },
    {
     "name": "stdout",
     "output_type": "stream",
     "text": [
      "1\n"
     ]
    }
   ],
   "source": [
    "X_train, X_test, y_train, y_test = train_test_split(no_zero_X, y5, test_size=0.3, random_state=0, shuffle=True)\n",
    "#标准化处理\n",
    "scale = StandardScaler()\n",
    "X_train_s = scale.fit_transform(X_train)\n",
    "X_test_s = scale.fit_transform(X_test)\n",
    "\n",
    "#建立SVM模型\n",
    "svm = SVC(kernel=\"rbf\", C=100, gamma=0.001).fit(X_train_s, y_train)\n",
    "print(\"建立的SVM模型为：\", svm)\n",
    "\n",
    "y_pred = svm.predict(X_test_s)\n",
    "print(classification_report(y_test, y_pred))\n",
    "true = np.sum(y_pred == y_test)\n",
    "print('正确：', true,\"错误：\",y_pred.shape[0] - true)\n",
    "\n",
    "#参数\n",
    "print('准确率为：',\n",
    "      accuracy_score(y_test, y_pred))\n",
    "print('精确率为：',\n",
    "      precision_score(y_test, y_pred))\n",
    "print('召回率为：',\n",
    "      recall_score(y_test, y_pred))\n",
    "print('F1值为：',\n",
    "      f1_score(y_test, y_pred))\n",
    "\n",
    "# ## 求出ROC曲线的x轴和y轴\n",
    "FPR, recall, thresholds = roc_curve(y_test, y_pred)\n",
    "area = AUC(y_test, y_pred)\n",
    "\n",
    "# 画出ROC曲线\n",
    "plt.figure()\n",
    "plt.plot(FPR, recall, color='red'\n",
    "         , label='ROC curve (area = %0.2f)' % area)\n",
    "plt.plot([0, 1], [0, 1], color='black', linestyle='--')\n",
    "# 为了让曲线不黏在图的边缘\n",
    "plt.xlim([-0.05, 1.05])\n",
    "plt.ylim([-0.05, 1.05])\n",
    "plt.xlabel('False Positive Rate')\n",
    "plt.ylabel('Recall')\n",
    "plt.title('Receiver operating characteristic example')\n",
    "plt.legend(loc=\"lower right\")\n",
    "plt.show()\n",
    "\n",
    "# 利用ROC曲线找出最佳阀值\n",
    "maxindex = (recall - FPR).tolist().index(max(recall - FPR))\n",
    "print(thresholds[maxindex])  # -1.0860191749391461\n"
   ],
   "metadata": {
    "collapsed": false,
    "pycharm": {
     "name": "#%%\n"
    }
   }
  },
  {
   "cell_type": "code",
   "execution_count": 14,
   "outputs": [
    {
     "name": "stdout",
     "output_type": "stream",
     "text": [
      "0.6198398995448124\n",
      "0.8247710982054098\n",
      "0.8754617276199446\n",
      "0.8986396693350077\n",
      "Best socre:0.90\n",
      "Best parameters:{'gamma': 1, 'C': 100}\n",
      "Best score on test set:0.62\n"
     ]
    }
   ],
   "source": [
    "X_train, X_test, y_train, y_test = train_test_split(no_zero_X, y1, test_size=0.3, random_state=0, shuffle=True)\n",
    "#标准化处理\n",
    "scale = StandardScaler()\n",
    "X_train_s = scale.fit_transform(X_train)\n",
    "X_test_s = scale.fit_transform(X_test)\n",
    "\n",
    "best_score = 0\n",
    "for gamma in [0.001, 0.01,1]:\n",
    "    for c in [0.01, 0.1, 1, 10, 100]:\n",
    "        # 对于每种参数可能的组合，进行一次训练\n",
    "        svm = SVC(kernel=\"rbf\",gamma=gamma, C=c)\n",
    "        # 5 折交叉验证\n",
    "        scores = cross_val_score(svm, X_train_s, y_train, cv=5)\n",
    "        score = scores.mean()\n",
    "        # 找到表现最好的参数\n",
    "        if score > best_score:\n",
    "            print(score)\n",
    "            best_score = score\n",
    "        best_parameters = {'gamma': gamma, \"C\": c}\n",
    "\n",
    "# 使用最佳参数，构建新的模型\n",
    "# best_parameters = {'gamma': 0.001, \"C\": 10}\n",
    "svm = SVC(**best_parameters)\n",
    "\n",
    "# 使用训练集和验证集进行训练 more data always resultd in good performance\n",
    "svm.fit(X_train_s, y_train)\n",
    "\n",
    "# evalyation 模型评估\n",
    "test_score = svm.score(X_test_s, y_test)\n",
    "\n",
    "print('Best socre:{:.2f}'.format(best_score))\n",
    "print('Best parameters:{}'.format(best_parameters))\n",
    "print('Best score on test set:{:.2f}'.format(test_score))"
   ],
   "metadata": {
    "collapsed": false,
    "pycharm": {
     "name": "#%%\n"
    }
   }
  },
  {
   "cell_type": "code",
   "execution_count": 184,
   "outputs": [
    {
     "name": "stdout",
     "output_type": "stream",
     "text": [
      "Best parameters set found on development set:\n",
      "\n",
      "{'C': 100, 'gamma': 0.001, 'kernel': 'rbf'}\n"
     ]
    }
   ],
   "source": [
    "# 网格搜索模块\n",
    "X_train, X_test, y_train, y_test = train_test_split(no_zero_X, y5, test_size=0.3, random_state=0, shuffle=True)\n",
    "#标准化处理\n",
    "scale = StandardScaler()\n",
    "X_train_s = scale.fit_transform(X_train)\n",
    "X_test_s = scale.fit_transform(X_test)\n",
    "\n",
    "tuned_parameters = [{'kernel': ['rbf'], 'gamma': [1e-3,1e-4,1e-5],\n",
    "                     'C':[1e-3,1e-2,1e-1,1,10,100,1000]}\n",
    "                     # 'C': range(10,1000,100)},\n",
    "                    # {'kernel': ['linear'], 'C': [1, 10, 100, 1000]}\n",
    "                    ]\n",
    "\n",
    "clf = GridSearchCV(SVC(), tuned_parameters, cv=5)\n",
    "# 用训练集训练这个学习器 clf\n",
    "clf.fit(X_train_s, y_train)\n",
    "\n",
    "print(\"Best parameters set found on development set:\")\n",
    "print()\n",
    "\n",
    "# 再调用 clf.best_params_ 就能直接得到最好的参数搭配结果\n",
    "print(clf.best_params_)"
   ],
   "metadata": {
    "collapsed": false,
    "pycharm": {
     "name": "#%%\n"
    }
   }
  },
  {
   "cell_type": "code",
   "execution_count": 208,
   "outputs": [
    {
     "data": {
      "text/plain": "<matplotlib.legend.Legend at 0x20ca5f458e0>"
     },
     "execution_count": 208,
     "metadata": {},
     "output_type": "execute_result"
    },
    {
     "data": {
      "text/plain": "<Figure size 432x288 with 1 Axes>",
      "image/png": "[encoded data removed]"
     },
     "metadata": {
      "needs_background": "light"
     },
     "output_type": "display_data"
    }
   ],
   "source": [
    "#----------KNN Classifier\n",
    "X_train, X_test, y_train, y_test = train_test_split(no_zero_X, y1, test_size=0.2, random_state=0, shuffle=False)\n",
    "\n",
    "training_accuracy = []\n",
    "test_accuracy = []\n",
    "\n",
    "#try KNN for diffrent k nearest neighbor from 1 to 15\n",
    "neighbors_setting = range(2, 50)\n",
    "\n",
    "for n_neighbors in neighbors_setting:\n",
    "    knn = KNeighborsClassifier(n_neighbors=n_neighbors)\n",
    "    knn.fit(X_train, y_train)\n",
    "    training_accuracy.append(knn.score(X_train, y_train))\n",
    "    test_accuracy.append(knn.score(X_test, y_test))\n",
    "\n",
    "plt.plot(neighbors_setting, training_accuracy, label='Accuracy of the training set')\n",
    "plt.plot(neighbors_setting, test_accuracy, label='Accuracy of the test set')\n",
    "plt.ylabel('Accuracy')\n",
    "plt.xlabel('Number of Neighbors')\n",
    "plt.legend()\n",
    "\n"
   ],
   "metadata": {
    "collapsed": false,
    "pycharm": {
     "name": "#%%\n"
    }
   }
  }
 ],
 "metadata": {
  "kernelspec": {
   "display_name": "Python 3",
   "language": "python",
   "name": "python3"
  },
  "language_info": {
   "codemirror_mode": {
    "name": "ipython",
    "version": 2
   },
   "file_extension": ".py",
   "mimetype": "text/x-python",
   "name": "python",
   "nbconvert_exporter": "python",
   "pygments_lexer": "ipython2",
   "version": "2.7.6"
  }
 },
 "nbformat": 4,
 "nbformat_minor": 0
}