{
 "cells": [
  {
   "cell_type": "code",
   "execution_count": 1,
   "metadata": {
    "collapsed": true
   },
   "outputs": [],
   "source": [
    "import pandas as pd\n",
    "import matplotlib.pyplot as plt"
   ]
  },
  {
   "cell_type": "code",
   "execution_count": 2,
   "outputs": [],
   "source": [
    "# 读取cvs训练数据集\n",
    "cvs_path = \"./data/csv/Molecular_Descriptor_train.csv\"\n",
    "df = pd.read_csv(cvs_path, index_col=0)\n",
    "# 数据分割\n",
    "from sklearn.model_selection import train_test_split\n",
    "\n",
    "X = df.drop(['SMILES', 'pIC50'], axis=1)\n",
    "y = df['pIC50']"
   ],
   "metadata": {
    "collapsed": false,
    "pycharm": {
     "name": "#%%\n"
    }
   }
  },
  {
   "cell_type": "code",
   "execution_count": 3,
   "outputs": [
    {
     "name": "stdout",
     "output_type": "stream",
     "text": [
      "最终剩列 333\n",
      "sum 0 列:  225 方差过小 172\n",
      "['ALogP', 'ALogp2', 'AMR', 'apol', 'nAtom', 'nHeavyAtom', 'nH', 'nB', 'nN', 'nP', 'nCl', 'nI', 'ATSc1', 'ATSc2', 'ATSc4', 'ATSc5', 'ATSm1', 'ATSm2', 'ATSm3', 'ATSm4', 'ATSm5', 'ATSp1', 'ATSp2', 'nBase', 'nBonds', 'nBonds2', 'nBondsS', 'nBondsS2', 'nBondsS3', 'nBondsD2', 'nBondsQ', 'bpol', 'C1SP2', 'VCH-4', 'SC-3', 'SC-6', 'SPC-4', 'SP-0', 'SP-1', 'SP-2', 'SP-3', 'VP-0', 'VP-1', 'VP-2', 'CrippenLogP', 'CrippenMR', 'ECCEN', 'nHBd', 'nwHBd', 'nHBa', 'nHBint2', 'nHBint3', 'nHBint5', 'nHBint6', 'nHBint7', 'nHBint8', 'nHBint9', 'nHBint10', 'nHdNH', 'nHsSH', 'nHsNH2', 'nHssNH', 'nHsNH3p', 'nHssNH2p', 'nHsssNHp', 'nHCsatu', 'nHmisc', 'nsLi', 'nssBe', 'nssssBem', 'nsBH2', 'nssBH', 'nsssB', 'nssssBm', 'nddC', 'ndssC', 'nsNH3p', 'nsNH2', 'nssNH2p', 'ndNH', 'nssNH', 'nsssNHp', 'nddsN', 'nssssNp', 'ndO', 'naOm', 'nsOm', 'nsSiH3', 'nssSiH2', 'nsssSiH', 'nssssSi', 'nsPH2', 'nssPH', 'nsssP', 'ndsssP', 'nddsP', 'nsssssP', 'nsSH', 'nssS', 'ndssS', 'nssssssS', 'nSm', 'nsCl', 'nsGeH3', 'nssGeH2', 'nsssGeH', 'nssssGe', 'nsAsH2', 'nssAsH', 'nsssAs', 'ndsssAs', 'nddsAs', 'nsssssAs', 'nsSeH', 'ndSe', 'nssSe', 'naaSe', 'ndssSe', 'nssssssSe', 'nddssSe', 'nsSnH3', 'nssSnH2', 'nsssSnH', 'nssssSn', 'nsI', 'nsPbH3', 'nssPbH2', 'nsssPbH', 'nssssPb', 'SHBd', 'SwHBd', 'SHBa', 'SHBint2', 'SHBint3', 'SHBint5', 'SHBint6', 'SHBint7', 'SHBint8', 'SHBint9', 'SHBint10', 'SHdNH', 'SHsSH', 'SHsNH2', 'SHssNH', 'SHsNH3p', 'SHssNH2p', 'SHsssNHp', 'SHCHnX', 'SHCsats', 'SHCsatu', 'SHmisc', 'SsLi', 'SssBe', 'SssssBem', 'SsBH2', 'SssBH', 'SsssB', 'SssssBm', 'SsssCH', 'SddC', 'SdssC', 'SsNH3p', 'SsNH2', 'SssNH2p', 'SdNH', 'SssNH', 'SsssNHp', 'SddsN', 'SssssNp', 'SdO', 'SaOm', 'SsOm', 'SsSiH3', 'SssSiH2', 'SsssSiH', 'SssssSi', 'SsPH2', 'SssPH', 'SsssP', 'SdsssP', 'SddsP', 'SsssssP', 'SsSH', 'SdS', 'SdssS', 'SssssssS', 'SSm', 'SsCl', 'SsGeH3', 'SssGeH2', 'SsssGeH', 'SssssGe', 'SsAsH2', 'SssAsH', 'SsssAs', 'SdsssAs', 'SddsAs', 'SsssssAs', 'SsSeH', 'SdSe', 'SssSe', 'SaaSe', 'SdssSe', 'SssssssSe', 'SddssSe', 'SsBr', 'SsSnH3', 'SssSnH2', 'SsssSnH', 'SssssSn', 'SsI', 'SsPbH3', 'SssPbH2', 'SsssPbH', 'SssssPb', 'minHsSH', 'minHsNH3p', 'minHssNH2p', 'minHsssNHp', 'minHmisc', 'minsLi', 'minssBe', 'minssssBem', 'minsBH2', 'minssBH', 'minsssB', 'minssssBm', 'minddC', 'minsNH3p', 'minssNH2p', 'minsssNHp', 'minddsN', 'minssssNp', 'minaOm', 'minsSiH3', 'minssSiH2', 'minsssSiH', 'minssssSi', 'minsPH2', 'minssPH', 'minsssP', 'mindsssP', 'minddsP', 'minsssssP', 'minsSH', 'mindS', 'mindssS', 'minssssssS', 'minSm', 'minsGeH3', 'minssGeH2', 'minsssGeH', 'minssssGe', 'minsAsH2', 'minssAsH', 'minsssAs', 'mindsssAs', 'minddsAs', 'minsssssAs', 'minsSeH', 'mindSe', 'minssSe', 'minaaSe', 'mindssSe', 'minssssssSe', 'minddssSe', 'minsBr', 'minsSnH3', 'minssSnH2', 'minsssSnH', 'minssssSn', 'minsI', 'minsPbH3', 'minssPbH2', 'minsssPbH', 'minssssPb', 'maxHsSH', 'maxHsNH3p', 'maxHssNH2p', 'maxHsssNHp', 'maxHmisc', 'maxsLi', 'maxssBe', 'maxssssBem', 'maxsBH2', 'maxssBH', 'maxsssB', 'maxssssBm', 'maxddC', 'maxsNH3p', 'maxssNH2p', 'maxsssNHp', 'maxddsN', 'maxssssNp', 'maxaOm', 'maxsSiH3', 'maxssSiH2', 'maxsssSiH', 'maxssssSi', 'maxsPH2', 'maxssPH', 'maxsssP', 'maxdsssP', 'maxddsP', 'maxsssssP', 'maxsSH', 'maxdS', 'maxssS', 'maxaaS', 'maxdssS', 'maxddssS', 'maxssssssS', 'maxSm', 'maxsGeH3', 'maxssGeH2', 'maxsssGeH', 'maxssssGe', 'maxsAsH2', 'maxssAsH', 'maxsssAs', 'maxdsssAs', 'maxddsAs', 'maxsssssAs', 'maxsSeH', 'maxdSe', 'maxssSe', 'maxaaSe', 'maxdssSe', 'maxssssssSe', 'maxddssSe', 'maxsSnH3', 'maxssSnH2', 'maxsssSnH', 'maxssssSn', 'maxsI', 'maxsPbH3', 'maxssPbH2', 'maxsssPbH', 'maxssssPb', 'sumI', 'DELS', 'DELS2', 'ETA_Alpha', 'ETA_dAlpha_A', 'ETA_dPsi_B', 'ETA_Beta', 'ETA_Beta_s', 'ETA_dBeta', 'ETA_Eta', 'ETA_Eta_R', 'ETA_Eta_F', 'ETA_Eta_L', 'ETA_Eta_R_L', 'ETA_Eta_B', 'ETA_Eta_B_RC', 'fragC', 'nHBAcc', 'nHBAcc2', 'nHBAcc3', 'nHBAcc_Lipinski', 'nHBDon', 'nHBDon_Lipinski', 'Kier1', 'Kier2', 'Kier3', 'nAtomLC', 'McGowan_Volume', 'MDEN-11', 'MDEN-12', 'MDEN-13', 'MLFER_A', 'MLFER_BH', 'MLFER_BO', 'MLFER_S', 'MLFER_E', 'MLFER_L', 'n4Ring', 'n8Ring', 'n9Ring', 'n10Ring', 'n11Ring', 'n12Ring', 'nG12Ring', 'nF4Ring', 'nF5Ring', 'nF7Ring', 'nT4Ring', 'nRotB', 'TopoPSA', 'VABC', 'MW', 'WTPT-1', 'WTPT-3', 'WTPT-5', 'WPATH', 'WPOL', 'Zagreb']\n"
     ]
    }
   ],
   "source": [
    "# 去除sum为0的列和方差过小的列\n",
    "sum_zero_count = 0\n",
    "var_count = 0\n",
    "delete = []\n",
    "for index, row in df.iteritems():\n",
    "    if index != \"SMILES\" and index != \"pIC50\":\n",
    "        #计算该列和\n",
    "        row = (row - row.min()) / (row.max() - row.min())\n",
    "\n",
    "        if df[index].sum() == 0:\n",
    "            df[index] = row\n",
    "            delete.append((index))\n",
    "            sum_zero_count = sum_zero_count + 1\n",
    "            continue\n",
    "\n",
    "        if row.var() < 0.005:\n",
    "            r = row.var()\n",
    "            var_count = var_count + 1\n",
    "            delete.append((index))\n",
    "\n",
    "final_sum = df.shape[1] - 1 - var_count - sum_zero_count\n",
    "print(\"最终剩列\", final_sum)\n",
    "print(\"sum 0 列: \", sum_zero_count, \"方差过小\", var_count)\n",
    "print(delete)\n",
    "#删除sum为0后的数据\n",
    "handle_df = df.drop(delete, axis=1).drop([\"SMILES\",\"pIC50\"],axis=1)\n"
   ],
   "metadata": {
    "collapsed": false,
    "pycharm": {
     "name": "#%%\n"
    }
   }
  },
  {
   "cell_type": "code",
   "execution_count": 8,
   "outputs": [
    {
     "ename": "AttributeError",
     "evalue": "'SVR' object has no attribute '_dual_coef_'",
     "output_type": "error",
     "traceback": [
      "\u001B[1;31m---------------------------------------------------------------------------\u001B[0m",
      "\u001B[1;31mAttributeError\u001B[0m                            Traceback (most recent call last)",
      "\u001B[1;32m<ipython-input-8-08cd987f6333>\u001B[0m in \u001B[0;36m<module>\u001B[1;34m\u001B[0m\n\u001B[0;32m     20\u001B[0m \u001B[1;31m# 这里不带交叉验证的部分\u001B[0m\u001B[1;33m\u001B[0m\u001B[1;33m\u001B[0m\u001B[1;33m\u001B[0m\u001B[0m\n\u001B[0;32m     21\u001B[0m \u001B[1;31m# estimator估计函数\u001B[0m\u001B[1;33m\u001B[0m\u001B[1;33m\u001B[0m\u001B[1;33m\u001B[0m\u001B[0m\n\u001B[1;32m---> 22\u001B[1;33m \u001B[0mrfe\u001B[0m \u001B[1;33m=\u001B[0m \u001B[0mRFE\u001B[0m\u001B[1;33m(\u001B[0m\u001B[0mestimator\u001B[0m\u001B[1;33m=\u001B[0m\u001B[0mlr\u001B[0m\u001B[1;33m,\u001B[0m \u001B[0mn_features_to_select\u001B[0m\u001B[1;33m=\u001B[0m\u001B[1;36m20\u001B[0m\u001B[1;33m,\u001B[0m\u001B[0mimportance_getter\u001B[0m\u001B[1;33m=\u001B[0m\u001B[0mlr\u001B[0m\u001B[1;33m.\u001B[0m\u001B[0mcoef_\u001B[0m\u001B[1;33m)\u001B[0m\u001B[1;33m\u001B[0m\u001B[1;33m\u001B[0m\u001B[0m\n\u001B[0m\u001B[0;32m     23\u001B[0m \u001B[0mrfe\u001B[0m\u001B[1;33m.\u001B[0m\u001B[0mfit\u001B[0m\u001B[1;33m(\u001B[0m\u001B[0mX_test\u001B[0m\u001B[1;33m,\u001B[0m \u001B[0my_test\u001B[0m\u001B[1;33m)\u001B[0m\u001B[1;33m\u001B[0m\u001B[1;33m\u001B[0m\u001B[0m\n\u001B[0;32m     24\u001B[0m \u001B[1;31m# 和传参对应，所选择的属性的个数\u001B[0m\u001B[1;33m\u001B[0m\u001B[1;33m\u001B[0m\u001B[1;33m\u001B[0m\u001B[0m\n",
      "\u001B[1;32mc:\\users\\admin\\pycharmprojects\\unienv\\venv\\lib\\site-packages\\sklearn\\svm\\_base.py\u001B[0m in \u001B[0;36mcoef_\u001B[1;34m(self)\u001B[0m\n\u001B[0;32m    502\u001B[0m                                  'linear kernel')\n\u001B[0;32m    503\u001B[0m \u001B[1;33m\u001B[0m\u001B[0m\n\u001B[1;32m--> 504\u001B[1;33m         \u001B[0mcoef\u001B[0m \u001B[1;33m=\u001B[0m \u001B[0mself\u001B[0m\u001B[1;33m.\u001B[0m\u001B[0m_get_coef\u001B[0m\u001B[1;33m(\u001B[0m\u001B[1;33m)\u001B[0m\u001B[1;33m\u001B[0m\u001B[1;33m\u001B[0m\u001B[0m\n\u001B[0m\u001B[0;32m    505\u001B[0m \u001B[1;33m\u001B[0m\u001B[0m\n\u001B[0;32m    506\u001B[0m         \u001B[1;31m# coef_ being a read-only property, it's better to mark the value as\u001B[0m\u001B[1;33m\u001B[0m\u001B[1;33m\u001B[0m\u001B[1;33m\u001B[0m\u001B[0m\n",
      "\u001B[1;32mc:\\users\\admin\\pycharmprojects\\unienv\\venv\\lib\\site-packages\\sklearn\\svm\\_base.py\u001B[0m in \u001B[0;36m_get_coef\u001B[1;34m(self)\u001B[0m\n\u001B[0;32m    515\u001B[0m \u001B[1;33m\u001B[0m\u001B[0m\n\u001B[0;32m    516\u001B[0m     \u001B[1;32mdef\u001B[0m \u001B[0m_get_coef\u001B[0m\u001B[1;33m(\u001B[0m\u001B[0mself\u001B[0m\u001B[1;33m)\u001B[0m\u001B[1;33m:\u001B[0m\u001B[1;33m\u001B[0m\u001B[1;33m\u001B[0m\u001B[0m\n\u001B[1;32m--> 517\u001B[1;33m         \u001B[1;32mreturn\u001B[0m \u001B[0msafe_sparse_dot\u001B[0m\u001B[1;33m(\u001B[0m\u001B[0mself\u001B[0m\u001B[1;33m.\u001B[0m\u001B[0m_dual_coef_\u001B[0m\u001B[1;33m,\u001B[0m \u001B[0mself\u001B[0m\u001B[1;33m.\u001B[0m\u001B[0msupport_vectors_\u001B[0m\u001B[1;33m)\u001B[0m\u001B[1;33m\u001B[0m\u001B[1;33m\u001B[0m\u001B[0m\n\u001B[0m\u001B[0;32m    518\u001B[0m \u001B[1;33m\u001B[0m\u001B[0m\n\u001B[0;32m    519\u001B[0m     \u001B[1;33m@\u001B[0m\u001B[0mproperty\u001B[0m\u001B[1;33m\u001B[0m\u001B[1;33m\u001B[0m\u001B[0m\n",
      "\u001B[1;31mAttributeError\u001B[0m: 'SVR' object has no attribute '_dual_coef_'"
     ]
    }
   ],
   "source": [
    "from sklearn.feature_selection import RFE\n",
    "from sklearn.linear_model import LinearRegression, Ridge, Lasso\n",
    "from sklearn.tree import DecisionTreeRegressor\n",
    "from sklearn.ensemble import RandomForestRegressor\n",
    "from sklearn.preprocessing import StandardScaler\n",
    "from sklearn.svm import SVR\n",
    "# lr = Ridge(alpha=100000, fit_intercept=True, normalize=True,\n",
    "#            copy_X=True, max_iter=1500, tol=1e-4, solver='auto')\n",
    "\n",
    "# lr = RandomForestRegressor()\n",
    "\n",
    "lr = SVR(kernel=\"linear\")\n",
    "X_train, X_test, y_train, y_test = train_test_split(handle_df, y, test_size=0.2, random_state=0, shuffle=False)\n",
    "\n",
    "scale = StandardScaler()\n",
    "X_train = scale.fit_transform(X_train)\n",
    "X_test = scale.fit_transform(X_test)\n",
    "\n",
    "\n",
    "# 这里不带交叉验证的部分\n",
    "# estimator估计函数\n",
    "rfe = RFE(estimator=lr, n_features_to_select=20,importance_getter=lr.coef_)\n",
    "rfe.fit(X_test, y_test)\n",
    "# 和传参对应，所选择的属性的个数\n",
    "print(rfe.n_features_)\n",
    "# 打印的是相应位置上属性的排名\n",
    "print(rfe.ranking_)\n",
    "# 属性选择的一种模糊表示，选择的是true，未选择的是false\n",
    "print(rfe.support_)\n",
    "# 外部估计函数的相关信息\n",
    "print(rfe.estimator_)\n"
   ],
   "metadata": {
    "collapsed": false,
    "pycharm": {
     "name": "#%%\n"
    }
   }
  },
  {
   "cell_type": "code",
   "execution_count": 10,
   "outputs": [
    {
     "data": {
      "text/plain": "                Rank\n1              XLogP\n1               SsOH\n1             minHBa\n1          minHBint4\n1          minHBint6\n1               VP-5\n1         minHBint10\n1            minHsOH\n1            mindssC\n1              VPC-6\n1             WTPT-4\n1              SPC-6\n1             maxHBa\n1            maxHsOH\n1               hmin\n1  LipoaffinityIndex\n1              SHsOH\n1           BCUTc-1h\n1            MDEC-23\n1           BCUTc-1l",
      "text/html": "<div>\n<style scoped>\n    .dataframe tbody tr th:only-of-type {\n        vertical-align: middle;\n    }\n\n    .dataframe tbody tr th {\n        vertical-align: top;\n    }\n\n    .dataframe thead th {\n        text-align: right;\n    }\n</style>\n<table border=\"1\" class=\"dataframe\">\n  <thead>\n    <tr style=\"text-align: right;\">\n      <th></th>\n      <th>Rank</th>\n    </tr>\n  </thead>\n  <tbody>\n    <tr>\n      <th>1</th>\n      <td>XLogP</td>\n    </tr>\n    <tr>\n      <th>1</th>\n      <td>SsOH</td>\n    </tr>\n    <tr>\n      <th>1</th>\n      <td>minHBa</td>\n    </tr>\n    <tr>\n      <th>1</th>\n      <td>minHBint4</td>\n    </tr>\n    <tr>\n      <th>1</th>\n      <td>minHBint6</td>\n    </tr>\n    <tr>\n      <th>1</th>\n      <td>VP-5</td>\n    </tr>\n    <tr>\n      <th>1</th>\n      <td>minHBint10</td>\n    </tr>\n    <tr>\n      <th>1</th>\n      <td>minHsOH</td>\n    </tr>\n    <tr>\n      <th>1</th>\n      <td>mindssC</td>\n    </tr>\n    <tr>\n      <th>1</th>\n      <td>VPC-6</td>\n    </tr>\n    <tr>\n      <th>1</th>\n      <td>WTPT-4</td>\n    </tr>\n    <tr>\n      <th>1</th>\n      <td>SPC-6</td>\n    </tr>\n    <tr>\n      <th>1</th>\n      <td>maxHBa</td>\n    </tr>\n    <tr>\n      <th>1</th>\n      <td>maxHsOH</td>\n    </tr>\n    <tr>\n      <th>1</th>\n      <td>hmin</td>\n    </tr>\n    <tr>\n      <th>1</th>\n      <td>LipoaffinityIndex</td>\n    </tr>\n    <tr>\n      <th>1</th>\n      <td>SHsOH</td>\n    </tr>\n    <tr>\n      <th>1</th>\n      <td>BCUTc-1h</td>\n    </tr>\n    <tr>\n      <th>1</th>\n      <td>MDEC-23</td>\n    </tr>\n    <tr>\n      <th>1</th>\n      <td>BCUTc-1l</td>\n    </tr>\n  </tbody>\n</table>\n</div>"
     },
     "execution_count": 10,
     "metadata": {},
     "output_type": "execute_result"
    }
   ],
   "source": [
    "pd.DataFrame(X_train.columns, index=rfe.ranking_, columns=['Rank']).sort_index(ascending=True).head(20)\n"
   ],
   "metadata": {
    "collapsed": false,
    "pycharm": {
     "name": "#%%\n"
    }
   }
  },
  {
   "cell_type": "code",
   "execution_count": null,
   "outputs": [],
   "source": [],
   "metadata": {
    "collapsed": false,
    "pycharm": {
     "name": "#%%\n"
    }
   }
  }
 ],
 "metadata": {
  "kernelspec": {
   "display_name": "Python 3",
   "language": "python",
   "name": "python3"
  },
  "language_info": {
   "codemirror_mode": {
    "name": "ipython",
    "version": 2
   },
   "file_extension": ".py",
   "mimetype": "text/x-python",
   "name": "python",
   "nbconvert_exporter": "python",
   "pygments_lexer": "ipython2",
   "version": "2.7.6"
  }
 },
 "nbformat": 4,
 "nbformat_minor": 0
}