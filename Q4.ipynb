{
 "cells": [
  {
   "cell_type": "code",
   "execution_count": 137,
   "metadata": {
    "collapsed": true
   },
   "outputs": [],
   "source": [
    "import math\n",
    "\n",
    "import numpy as np\n",
    "import pandas as pd\n",
    "from FS import feature_select, delete_zero_and_var\n",
    "import matplotlib.pyplot as plt\n",
    "from sklearn.model_selection import train_test_split\n",
    "from sklearn.preprocessing import MinMaxScaler, scale, RobustScaler, StandardScaler\n",
    "import seaborn as sns\n",
    "from sklearn.metrics import mean_squared_error, r2_score, mean_absolute_error\n",
    "from math import ceil"
   ]
  },
  {
   "cell_type": "code",
   "execution_count": 164,
   "outputs": [
    {
     "name": "stdout",
     "output_type": "stream",
     "text": [
      "(632, 730)\n"
     ]
    }
   ],
   "source": [
    "# 读取cvs训练数据集\n",
    "cvs_path = \"./data/csv/Q4_data.csv\"\n",
    "df = pd.read_csv(cvs_path, index_col=0).drop(\"SMILES\", axis=1)\n",
    "raw_path = \"./data/csv/Molecular_Descriptor_train.csv\"\n",
    "raw_df = pd.read_csv(raw_path, index_col=0).drop(\"SMILES\", axis=1)\n",
    "print(df.shape)\n"
   ],
   "metadata": {
    "collapsed": false,
    "pycharm": {
     "name": "#%%\n"
    }
   }
  },
  {
   "cell_type": "code",
   "execution_count": 177,
   "outputs": [
    {
     "name": "stdout",
     "output_type": "stream",
     "text": [
      "(632, 729)\n",
      "最终剩余特征数 492\n",
      "sum=0特征:  238 方差过小特征:  0\n",
      "['nB', 'nP', 'nBondsQ', 'nHsNH3p', 'nHssNH2p', 'nHsssNHp', 'nHmisc', 'nsLi', 'nssBe', 'nssssBem', 'nsBH2', 'nssBH', 'nsssB', 'nssssBm', 'nddC', 'nsNH3p', 'nssNH2p', 'nsssNHp', 'nddsN', 'nssssNp', 'naOm', 'nsSiH3', 'nssSiH2', 'nsssSiH', 'nssssSi', 'nsPH2', 'nssPH', 'nsssP', 'ndsssP', 'nddsP', 'nsssssP', 'ndssS', 'nssssssS', 'nSm', 'nsGeH3', 'nssGeH2', 'nsssGeH', 'nssssGe', 'nsAsH2', 'nssAsH', 'nsssAs', 'ndsssAs', 'nddsAs', 'nsssssAs', 'nsSeH', 'ndSe', 'nssSe', 'naaSe', 'ndssSe', 'nssssssSe', 'nddssSe', 'nsSnH3', 'nssSnH2', 'nsssSnH', 'nssssSn', 'nsPbH3', 'nssPbH2', 'nsssPbH', 'nssssPb', 'SHsNH3p', 'SHssNH2p', 'SHsssNHp', 'SHmisc', 'SsLi', 'SssBe', 'SssssBem', 'SsBH2', 'SssBH', 'SsssB', 'SssssBm', 'SddC', 'SsNH3p', 'SssNH2p', 'SsssNHp', 'SddsN', 'SssssNp', 'SaOm', 'SsSiH3', 'SssSiH2', 'SsssSiH', 'SssssSi', 'SsPH2', 'SssPH', 'SsssP', 'SdsssP', 'SddsP', 'SsssssP', 'SdssS', 'SssssssS', 'SSm', 'SsGeH3', 'SssGeH2', 'SsssGeH', 'SssssGe', 'SsAsH2', 'SssAsH', 'SsssAs', 'SdsssAs', 'SddsAs', 'SsssssAs', 'SsSeH', 'SdSe', 'SssSe', 'SaaSe', 'SdssSe', 'SssssssSe', 'SddssSe', 'SsSnH3', 'SssSnH2', 'SsssSnH', 'SssssSn', 'SsPbH3', 'SssPbH2', 'SsssPbH', 'SssssPb', 'minHsNH3p', 'minHssNH2p', 'minHsssNHp', 'minHmisc', 'minsLi', 'minssBe', 'minssssBem', 'minsBH2', 'minssBH', 'minsssB', 'minssssBm', 'minddC', 'minsNH3p', 'minssNH2p', 'minsssNHp', 'minddsN', 'minssssNp', 'minaOm', 'minsSiH3', 'minssSiH2', 'minsssSiH', 'minssssSi', 'minsPH2', 'minssPH', 'minsssP', 'mindsssP', 'minddsP', 'minsssssP', 'mindssS', 'minssssssS', 'minSm', 'minsGeH3', 'minssGeH2', 'minsssGeH', 'minssssGe', 'minsAsH2', 'minssAsH', 'minsssAs', 'mindsssAs', 'minddsAs', 'minsssssAs', 'minsSeH', 'mindSe', 'minssSe', 'minaaSe', 'mindssSe', 'minssssssSe', 'minddssSe', 'minsSnH3', 'minssSnH2', 'minsssSnH', 'minssssSn', 'minsPbH3', 'minssPbH2', 'minsssPbH', 'minssssPb', 'maxHsNH3p', 'maxHssNH2p', 'maxHsssNHp', 'maxHmisc', 'maxsLi', 'maxssBe', 'maxssssBem', 'maxsBH2', 'maxssBH', 'maxsssB', 'maxssssBm', 'maxddC', 'maxsNH3p', 'maxssNH2p', 'maxsssNHp', 'maxddsN', 'maxssssNp', 'maxaOm', 'maxsSiH3', 'maxssSiH2', 'maxsssSiH', 'maxssssSi', 'maxsPH2', 'maxssPH', 'maxsssP', 'maxdsssP', 'maxddsP', 'maxsssssP', 'maxssS', 'maxaaS', 'maxdssS', 'maxddssS', 'maxssssssS', 'maxSm', 'maxsGeH3', 'maxssGeH2', 'maxsssGeH', 'maxssssGe', 'maxsAsH2', 'maxssAsH', 'maxsssAs', 'maxdsssAs', 'maxddsAs', 'maxsssssAs', 'maxsSeH', 'maxdSe', 'maxssSe', 'maxaaSe', 'maxdssSe', 'maxssssssSe', 'maxddssSe', 'maxsSnH3', 'maxssSnH2', 'maxsssSnH', 'maxssssSn', 'maxsI', 'maxsPbH3', 'maxssPbH2', 'maxsssPbH', 'maxssssPb', 'n8Ring', 'n9Ring', 'n10Ring', 'n11Ring', 'nG12Ring', 'nF4Ring', 'nF5Ring']\n",
      "最终剩余特征数 491\n",
      "sum=0特征:  238 方差过小特征:  0\n",
      "['nB', 'nP', 'nBondsQ', 'nHsNH3p', 'nHssNH2p', 'nHsssNHp', 'nHmisc', 'nsLi', 'nssBe', 'nssssBem', 'nsBH2', 'nssBH', 'nsssB', 'nssssBm', 'nddC', 'nsNH3p', 'nssNH2p', 'nsssNHp', 'nddsN', 'nssssNp', 'naOm', 'nsSiH3', 'nssSiH2', 'nsssSiH', 'nssssSi', 'nsPH2', 'nssPH', 'nsssP', 'ndsssP', 'nddsP', 'nsssssP', 'ndssS', 'nssssssS', 'nSm', 'nsGeH3', 'nssGeH2', 'nsssGeH', 'nssssGe', 'nsAsH2', 'nssAsH', 'nsssAs', 'ndsssAs', 'nddsAs', 'nsssssAs', 'nsSeH', 'ndSe', 'nssSe', 'naaSe', 'ndssSe', 'nssssssSe', 'nddssSe', 'nsSnH3', 'nssSnH2', 'nsssSnH', 'nssssSn', 'nsPbH3', 'nssPbH2', 'nsssPbH', 'nssssPb', 'SHsNH3p', 'SHssNH2p', 'SHsssNHp', 'SHmisc', 'SsLi', 'SssBe', 'SssssBem', 'SsBH2', 'SssBH', 'SsssB', 'SssssBm', 'SddC', 'SsNH3p', 'SssNH2p', 'SsssNHp', 'SddsN', 'SssssNp', 'SaOm', 'SsSiH3', 'SssSiH2', 'SsssSiH', 'SssssSi', 'SsPH2', 'SssPH', 'SsssP', 'SdsssP', 'SddsP', 'SsssssP', 'SdssS', 'SssssssS', 'SSm', 'SsGeH3', 'SssGeH2', 'SsssGeH', 'SssssGe', 'SsAsH2', 'SssAsH', 'SsssAs', 'SdsssAs', 'SddsAs', 'SsssssAs', 'SsSeH', 'SdSe', 'SssSe', 'SaaSe', 'SdssSe', 'SssssssSe', 'SddssSe', 'SsSnH3', 'SssSnH2', 'SsssSnH', 'SssssSn', 'SsPbH3', 'SssPbH2', 'SsssPbH', 'SssssPb', 'minHsNH3p', 'minHssNH2p', 'minHsssNHp', 'minHmisc', 'minsLi', 'minssBe', 'minssssBem', 'minsBH2', 'minssBH', 'minsssB', 'minssssBm', 'minddC', 'minsNH3p', 'minssNH2p', 'minsssNHp', 'minddsN', 'minssssNp', 'minaOm', 'minsSiH3', 'minssSiH2', 'minsssSiH', 'minssssSi', 'minsPH2', 'minssPH', 'minsssP', 'mindsssP', 'minddsP', 'minsssssP', 'mindssS', 'minssssssS', 'minSm', 'minsGeH3', 'minssGeH2', 'minsssGeH', 'minssssGe', 'minsAsH2', 'minssAsH', 'minsssAs', 'mindsssAs', 'minddsAs', 'minsssssAs', 'minsSeH', 'mindSe', 'minssSe', 'minaaSe', 'mindssSe', 'minssssssSe', 'minddssSe', 'minsSnH3', 'minssSnH2', 'minsssSnH', 'minssssSn', 'minsPbH3', 'minssPbH2', 'minsssPbH', 'minssssPb', 'maxHsNH3p', 'maxHssNH2p', 'maxHsssNHp', 'maxHmisc', 'maxsLi', 'maxssBe', 'maxssssBem', 'maxsBH2', 'maxssBH', 'maxsssB', 'maxssssBm', 'maxddC', 'maxsNH3p', 'maxssNH2p', 'maxsssNHp', 'maxddsN', 'maxssssNp', 'maxaOm', 'maxsSiH3', 'maxssSiH2', 'maxsssSiH', 'maxssssSi', 'maxsPH2', 'maxssPH', 'maxsssP', 'maxdsssP', 'maxddsP', 'maxsssssP', 'maxssS', 'maxaaS', 'maxdssS', 'maxddssS', 'maxssssssS', 'maxSm', 'maxsGeH3', 'maxssGeH2', 'maxsssGeH', 'maxssssGe', 'maxsAsH2', 'maxssAsH', 'maxsssAs', 'maxdsssAs', 'maxddsAs', 'maxsssssAs', 'maxsSeH', 'maxdSe', 'maxssSe', 'maxaaSe', 'maxdssSe', 'maxssssssSe', 'maxddssSe', 'maxsSnH3', 'maxssSnH2', 'maxsssSnH', 'maxssssSn', 'maxsI', 'maxsPbH3', 'maxssPbH2', 'maxsssPbH', 'maxssssPb', 'n8Ring', 'n9Ring', 'n10Ring', 'n11Ring', 'nG12Ring', 'nF4Ring', 'nF5Ring']\n",
      "Index(['pIC50', 'LipoaffinityIndex', 'CrippenLogP', 'MDEC-23', 'MLogP',\n",
      "       'C3SP2', 'XLogP', 'BCUTp-1h', 'MDEC-22', 'SwHBa', 'nC', 'SaaCH',\n",
      "       'ALogP', 'nHaaCH', 'naaCH', 'maxHsOH', 'AMR', 'C2SP2', 'maxsOH',\n",
      "       'minHsOH', 'minsOH', 'MLFER_A', 'ATSp5', 'nHother', 'ATSp1',\n",
      "       'naAromAtom', 'ATSp4', 'nwHBa', 'ATSp2', 'ETA_dEpsilon_C', 'maxHBd',\n",
      "       'nAromBond', 'SHaaCH', 'minHBint10', 'maxHBint10', 'ATSp3', 'SaasC',\n",
      "       'SHBint10', 'SP-5', 'SHsOH', 'apol', 'n7Ring', 'ETA_Alpha', 'maxaasC',\n",
      "       'CrippenMR', 'maxsF', 'minsF', 'WPOL', 'McGowan_Volume', 'nF11Ring',\n",
      "       'nT11Ring', 'VP-1', 'nHBint10', 'maxaaCH', 'SHother', 'nBondsM',\n",
      "       'Zagreb', 'ALogp2', 'nHsOH', 'nsOH', 'nBonds', 'SP-2', 'WTPT-1',\n",
      "       'nT7Ring', 'SsF', 'n6Ring', 'nBonds2', 'ETA_Eta_R_L', 'SP-1', 'VABC',\n",
      "       'ATSc2', 'nHeavyAtom', 'VAdjMat', 'nF', 'nsF', 'naasC', 'nT6Ring',\n",
      "       'SsOH', 'SP-3', 'ATSc4', 'nAtom', 'SP-6', 'ETA_Eta_R', 'VP-0', 'SP-4',\n",
      "       'SP-0', 'SP-7', 'ECCEN', 'ETA_Beta_ns_d', 'VP-2', 'ETA_Beta_ns',\n",
      "       'ETA_Beta', 'minHBd', 'Kier1', 'fragC', 'nBondsS', 'nX', 'MW',\n",
      "       'nAtomLAC', 'VP-3'],\n",
      "      dtype='object')\n",
      "fianl ['MDEC-23', 'MLogP', 'LipoaffinityIndex', 'maxsOH', 'nC', 'nT6Ring', 'minsssN', 'BCUTp-1h', 'C2SP2', 'AMR', 'WPOL', 'SP-5', 'CrippenLogP', 'MDEC-22', 'nBonds2', 'Zagreb', 'ATSp4', 'VAdjMat', 'ATSc3', 'ETA_Alpha']\n",
      "20\n"
     ]
    }
   ],
   "source": [
    "# 数据分割\n",
    "X = df.drop(['pIC50'], axis=1)\n",
    "y = df['pIC50']\n",
    "print(X.shape)\n",
    "# 特征选择\n",
    "\n",
    "# # 提取后的总训练集和选择的列Name\n",
    "# 这里 sum=0多了因为数据更小了\n",
    "\n",
    "del_df_with_pIC50 = delete_zero_and_var(df, 0.0) #带pIC50 用来计算相关度\n",
    "del_df = delete_zero_and_var(X,0.0) #不带pIC50\n",
    "\n",
    "corrmat = del_df_with_pIC50.corr()\n",
    "k = 100  # 关系矩阵中将显示10个特征\n",
    "corr_sel = corrmat.nlargest(k, 'pIC50')['pIC50'].index\n",
    "print(corr_sel)\n",
    "\n",
    "q1_select = ['MDEC-23', 'MLogP', 'LipoaffinityIndex', 'maxsOH', 'nC', 'nT6Ring',\n",
    " 'minsssN', 'BCUTp-1h', 'C2SP2', 'AMR', 'WPOL', 'SP-5', 'CrippenLogP',\n",
    " 'MDEC-22', 'nBonds2', 'Zagreb', 'ATSp4', 'VAdjMat', 'ATSc3',\n",
    " 'ETA_Alpha']\n",
    "\n",
    "l1 = q1_select + list(corr_sel)[1:]\n",
    "Q4_final_select = sorted(set(l1),key=l1.index)[:20]\n",
    "\n",
    "print(\"fianl\",Q4_final_select)\n",
    "print(len(Q4_final_select))\n"
   ],
   "metadata": {
    "collapsed": false,
    "pycharm": {
     "name": "#%%\n"
    }
   }
  },
  {
   "cell_type": "code",
   "execution_count": 178,
   "outputs": [],
   "source": [
    "# Models\n",
    "from sklearn.ensemble import RandomForestRegressor, GradientBoostingRegressor, AdaBoostRegressor, BaggingRegressor\n",
    "from sklearn.linear_model import ElasticNet, ElasticNetCV\n",
    "from sklearn.svm import SVR\n",
    "from lightgbm import LGBMRegressor\n",
    "from xgboost import XGBRegressor\n",
    "from mlxtend.regressor import StackingCVRegressor\n",
    "from sklearn.pipeline import make_pipeline\n",
    "from sklearn.model_selection import KFold, cross_val_score\n",
    "\n",
    "# Setup cross validation folds\n",
    "kf = KFold(n_splits=5, random_state=42, shuffle=True)\n",
    "\n",
    "# Light Gradient Boosting Regressor\n",
    "lightgbm = LGBMRegressor(objective='regression',\n",
    "                         num_leaves=6,\n",
    "                         learning_rate=0.01,\n",
    "                         n_estimators=7000,\n",
    "                         max_bin=200,\n",
    "                         bagging_fraction=0.8,\n",
    "                         bagging_freq=4,\n",
    "                         bagging_seed=8,\n",
    "                         feature_fraction=0.2,\n",
    "                         feature_fraction_seed=8,\n",
    "                         min_sum_hessian_in_leaf=11,\n",
    "                         verbose=-1,\n",
    "                         random_state=42)\n",
    "\n",
    "# XGBoost Regressor\n",
    "xgboost = XGBRegressor(learning_rate=0.01,\n",
    "                       n_estimators=6000,\n",
    "                       max_depth=4,\n",
    "                       min_child_weight=0,\n",
    "                       gamma=0.6,\n",
    "                       subsample=0.7,\n",
    "                       colsample_bytree=0.7,\n",
    "                       objective='reg:linear',\n",
    "                       nthread=-1,\n",
    "                       scale_pos_weight=1,\n",
    "                       seed=27,\n",
    "                       reg_alpha=0.00006,\n",
    "                       random_state=42)\n",
    "\n",
    "# Support Vector Regressor\n",
    "svr = make_pipeline(RobustScaler(), SVR(C=100, epsilon=0.008, gamma=0.003))\n",
    "\n",
    "# Gradient Boosting Regressor\n",
    "gbr = GradientBoostingRegressor(n_estimators=3000,\n",
    "                                learning_rate=0.01,\n",
    "                                max_depth=4,\n",
    "                                max_features='sqrt',\n",
    "                                min_samples_leaf=15,\n",
    "                                min_samples_split=10,\n",
    "                                loss='huber',\n",
    "                                random_state=42)\n",
    "\n",
    "# Random Forest Regressor\n",
    "rf = RandomForestRegressor(n_estimators=800,\n",
    "                           max_depth=15,\n",
    "                           min_samples_split=5,\n",
    "                           min_samples_leaf=5,\n",
    "                           max_features=None,\n",
    "                           oob_score=True,\n",
    "                           random_state=42)\n",
    "\n",
    "# Stack up all the models above, optimized using xgboost\n",
    "stack_gen = StackingCVRegressor(regressors=(xgboost, lightgbm, svr, gbr, rf),\n",
    "                                meta_regressor=xgboost,\n",
    "                                use_features_in_secondary=True)"
   ],
   "metadata": {
    "collapsed": false,
    "pycharm": {
     "name": "#%%\n"
    }
   }
  },
  {
   "cell_type": "code",
   "execution_count": 179,
   "outputs": [
    {
     "name": "stdout",
     "output_type": "stream",
     "text": [
      "(632, 491)\n"
     ]
    }
   ],
   "source": [
    "print(del_df.shape)"
   ],
   "metadata": {
    "collapsed": false,
    "pycharm": {
     "name": "#%%\n"
    }
   }
  },
  {
   "cell_type": "code",
   "execution_count": 180,
   "outputs": [],
   "source": [
    "\n",
    "# Define error metrics\n",
    "def mse(y, y_pred):\n",
    "    return mean_squared_error(y, y_pred)\n",
    "\n",
    "\n",
    "def mae(y, y_pred):\n",
    "    return mean_absolute_error(y, y_pred)\n",
    "\n",
    "\n",
    "def rmsle(y, y_pred):\n",
    "    return np.sqrt(mean_squared_error(y, y_pred))\n",
    "\n",
    "\n",
    "def cv_rmse(model, X=X, y=y):\n",
    "    rmse = np.sqrt(-cross_val_score(model, X, y, scoring=\"neg_mean_squared_error\", cv=kf))\n",
    "    return (rmse)"
   ],
   "metadata": {
    "collapsed": false,
    "pycharm": {
     "name": "#%%\n"
    }
   }
  },
  {
   "cell_type": "code",
   "execution_count": 181,
   "outputs": [
    {
     "name": "stdout",
     "output_type": "stream",
     "text": [
      "(632, 20)\n",
      "(632,)\n"
     ]
    }
   ],
   "source": [
    "del_df = del_df[Q4_final_select]\n",
    "X_train = del_df\n",
    "y_train = y\n",
    "\n",
    "print(X_train.shape)\n",
    "print(y.shape)"
   ],
   "metadata": {
    "collapsed": false,
    "pycharm": {
     "name": "#%%\n"
    }
   }
  },
  {
   "cell_type": "code",
   "execution_count": 182,
   "outputs": [
    {
     "name": "stdout",
     "output_type": "stream",
     "text": [
      "stack_gen done\n",
      "[01:26:12] WARNING: C:/Users/Administrator/workspace/xgboost-win64_release_1.4.0/src/objective/regression_obj.cu:171: reg:linear is now deprecated in favor of reg:squarederror.\n",
      "[01:26:16] WARNING: C:/Users/Administrator/workspace/xgboost-win64_release_1.4.0/src/objective/regression_obj.cu:171: reg:linear is now deprecated in favor of reg:squarederror.\n",
      "[01:26:19] WARNING: C:/Users/Administrator/workspace/xgboost-win64_release_1.4.0/src/objective/regression_obj.cu:171: reg:linear is now deprecated in favor of reg:squarederror.\n",
      "[01:26:23] WARNING: C:/Users/Administrator/workspace/xgboost-win64_release_1.4.0/src/objective/regression_obj.cu:171: reg:linear is now deprecated in favor of reg:squarederror.\n",
      "[01:26:26] WARNING: C:/Users/Administrator/workspace/xgboost-win64_release_1.4.0/src/objective/regression_obj.cu:171: reg:linear is now deprecated in favor of reg:squarederror.\n",
      "[LightGBM] [Warning] feature_fraction is set=0.2, colsample_bytree=1.0 will be ignored. Current value: feature_fraction=0.2\n",
      "[LightGBM] [Warning] min_sum_hessian_in_leaf is set=11, min_child_weight=0.001 will be ignored. Current value: min_sum_hessian_in_leaf=11\n",
      "[LightGBM] [Warning] bagging_fraction is set=0.8, subsample=1.0 will be ignored. Current value: bagging_fraction=0.8\n",
      "[LightGBM] [Warning] bagging_freq is set=4, subsample_freq=0 will be ignored. Current value: bagging_freq=4\n",
      "[LightGBM] [Warning] feature_fraction is set=0.2, colsample_bytree=1.0 will be ignored. Current value: feature_fraction=0.2\n",
      "[LightGBM] [Warning] min_sum_hessian_in_leaf is set=11, min_child_weight=0.001 will be ignored. Current value: min_sum_hessian_in_leaf=11\n",
      "[LightGBM] [Warning] bagging_fraction is set=0.8, subsample=1.0 will be ignored. Current value: bagging_fraction=0.8\n",
      "[LightGBM] [Warning] bagging_freq is set=4, subsample_freq=0 will be ignored. Current value: bagging_freq=4\n",
      "[LightGBM] [Warning] feature_fraction is set=0.2, colsample_bytree=1.0 will be ignored. Current value: feature_fraction=0.2\n",
      "[LightGBM] [Warning] min_sum_hessian_in_leaf is set=11, min_child_weight=0.001 will be ignored. Current value: min_sum_hessian_in_leaf=11\n",
      "[LightGBM] [Warning] bagging_fraction is set=0.8, subsample=1.0 will be ignored. Current value: bagging_fraction=0.8\n",
      "[LightGBM] [Warning] bagging_freq is set=4, subsample_freq=0 will be ignored. Current value: bagging_freq=4\n",
      "[LightGBM] [Warning] feature_fraction is set=0.2, colsample_bytree=1.0 will be ignored. Current value: feature_fraction=0.2\n",
      "[LightGBM] [Warning] min_sum_hessian_in_leaf is set=11, min_child_weight=0.001 will be ignored. Current value: min_sum_hessian_in_leaf=11\n",
      "[LightGBM] [Warning] bagging_fraction is set=0.8, subsample=1.0 will be ignored. Current value: bagging_fraction=0.8\n",
      "[LightGBM] [Warning] bagging_freq is set=4, subsample_freq=0 will be ignored. Current value: bagging_freq=4\n",
      "[LightGBM] [Warning] feature_fraction is set=0.2, colsample_bytree=1.0 will be ignored. Current value: feature_fraction=0.2\n",
      "[LightGBM] [Warning] min_sum_hessian_in_leaf is set=11, min_child_weight=0.001 will be ignored. Current value: min_sum_hessian_in_leaf=11\n",
      "[LightGBM] [Warning] bagging_fraction is set=0.8, subsample=1.0 will be ignored. Current value: bagging_fraction=0.8\n",
      "[LightGBM] [Warning] bagging_freq is set=4, subsample_freq=0 will be ignored. Current value: bagging_freq=4\n",
      "[01:27:28] WARNING: C:/Users/Administrator/workspace/xgboost-win64_release_1.4.0/src/objective/regression_obj.cu:171: reg:linear is now deprecated in favor of reg:squarederror.\n",
      "[01:27:32] WARNING: C:/Users/Administrator/workspace/xgboost-win64_release_1.4.0/src/objective/regression_obj.cu:171: reg:linear is now deprecated in favor of reg:squarederror.\n",
      "[LightGBM] [Warning] feature_fraction is set=0.2, colsample_bytree=1.0 will be ignored. Current value: feature_fraction=0.2\n",
      "[LightGBM] [Warning] min_sum_hessian_in_leaf is set=11, min_child_weight=0.001 will be ignored. Current value: min_sum_hessian_in_leaf=11\n",
      "[LightGBM] [Warning] bagging_fraction is set=0.8, subsample=1.0 will be ignored. Current value: bagging_fraction=0.8\n",
      "[LightGBM] [Warning] bagging_freq is set=4, subsample_freq=0 will be ignored. Current value: bagging_freq=4\n",
      "lightgbm done\n",
      "xgboost done\n",
      "[01:27:49] WARNING: C:/Users/Administrator/workspace/xgboost-win64_release_1.4.0/src/objective/regression_obj.cu:171: reg:linear is now deprecated in favor of reg:squarederror.\n",
      "Svr done\n",
      "RandomForest done\n",
      "GradientBoosting done\n",
      "all done\n"
     ]
    }
   ],
   "source": [
    "# 开始训练模型\n",
    "print('stack_gen done')\n",
    "stack_gen_model = stack_gen.fit(X_train, y_train)\n",
    "print('lightgbm done')\n",
    "lgb_model_full_data = lightgbm.fit(X_train, y_train)\n",
    "print('xgboost done')\n",
    "xgb_model_full_data = xgboost.fit(X_train, y_train)\n",
    "print('Svr done')\n",
    "svr_model_full_data = svr.fit(X_train, y_train)\n",
    "print('RandomForest done')\n",
    "rf_model_full_data = rf.fit(X_train, y_train)\n",
    "print('GradientBoosting done')\n",
    "gbr_model_full_data = gbr.fit(X_train, y_train)\n",
    "print(\"all done\")"
   ],
   "metadata": {
    "collapsed": false,
    "pycharm": {
     "name": "#%%\n"
    }
   }
  },
  {
   "cell_type": "code",
   "execution_count": 183,
   "outputs": [],
   "source": [
    "# Blend models in order to make the final predictions more robust to overfitting\n",
    "def blended_predictions(X):\n",
    "    return (\n",
    "            (0.05 * svr_model_full_data.predict(X)) +\n",
    "            (0.1 * gbr_model_full_data.predict(X)) +\n",
    "            (0.1 * xgb_model_full_data.predict(X)) +\n",
    "            (0.35 * lgb_model_full_data.predict(X)) +\n",
    "            (0.05 * rf_model_full_data.predict(X)) +\n",
    "            (0.40 * stack_gen_model.predict(X)))"
   ],
   "metadata": {
    "collapsed": false,
    "pycharm": {
     "name": "#%%\n"
    }
   }
  },
  {
   "cell_type": "code",
   "execution_count": 184,
   "outputs": [
    {
     "name": "stdout",
     "output_type": "stream",
     "text": [
      "MSE score on train data: 0.20069801796609224\n",
      "RMSLE score on train data: 0.44799332357312227\n",
      "MAE score on train data: 0.36907415223313134\n"
     ]
    }
   ],
   "source": [
    "# Get final precitions from the blended model\n",
    "y_perd = blended_predictions(X_train)\n",
    "blended_score = mse(y_train, y_perd)\n",
    "print('MSE score on train data:', blended_score)\n",
    "print('RMSLE score on train data:', rmsle(y_train, y_perd))\n",
    "print('MAE score on train data:', mae(y_train, y_perd))\n"
   ],
   "metadata": {
    "collapsed": false,
    "pycharm": {
     "name": "#%%\n"
    }
   }
  },
  {
   "cell_type": "code",
   "execution_count": 185,
   "outputs": [],
   "source": [
    "\n",
    "\n",
    "def objective(X):\n",
    "    ret = blended_predictions(np.expand_dims(X, axis=0))\n",
    "    return -ret[0]\n",
    "\n",
    "\n",
    "def max_objective(**kwargs):\n",
    "    X = np.fromiter(kwargs.values(), dtype=float)\n",
    "    print(X)\n",
    "    ret = blended_predictions(np.expand_dims(X, axis=0))\n",
    "    return ret[0]"
   ],
   "metadata": {
    "collapsed": false,
    "pycharm": {
     "name": "#%%\n"
    }
   }
  },
  {
   "cell_type": "code",
   "execution_count": 226,
   "outputs": [
    {
     "name": "stdout",
     "output_type": "stream",
     "text": [
      "MDEC-23 0.0 54.0201510618835 5\n",
      "MLogP 1.46 5.75 0\n",
      "LipoaffinityIndex -4.58887987602517 23.0036813723651 2\n",
      "maxsOH 0.0 12.470850049922 1\n",
      "nC 7.0 95.0 8\n",
      "nT6Ring 0.0 7.0 0\n",
      "minsssN 0.0 2.73477211777987 0\n",
      "BCUTp-1h 7.96939897605524 16.7482907932269 0\n",
      "C2SP2 0.0 24.0 2\n",
      "AMR 54.067 517.4294 46\n",
      "WPOL 14.0 230.0 21\n",
      "SP-5 1.85134064774192 27.2258699213241 2\n",
      "CrippenLogP -13.2664499999999 12.0701799999999 2\n",
      "MDEC-22 0.0 35.3207053361756 3\n",
      "nBonds2 22.0 343.0 32\n",
      "Zagreb 62.0 748.0 68\n",
      "ATSp4 728.970188498375 17063.0572775008 1633\n",
      "VAdjMat 4.8073549220576 8.34872815423107 0\n",
      "ATSc3 -0.372921531317864 0.537745503030608 0\n",
      "ETA_Alpha 6.49999 74.23326 6\n",
      "[<hyperopt.pyll.base.Apply object at 0x000002215E87BE50>, <hyperopt.pyll.base.Apply object at 0x000002215EA57A90>, <hyperopt.pyll.base.Apply object at 0x000002215EE4F7F0>, <hyperopt.pyll.base.Apply object at 0x000002215B4F0250>, <hyperopt.pyll.base.Apply object at 0x000002215FC54DC0>, <hyperopt.pyll.base.Apply object at 0x000002215F2AC2B0>, <hyperopt.pyll.base.Apply object at 0x000002215FEB4D00>, <hyperopt.pyll.base.Apply object at 0x000002215FDBFD30>, <hyperopt.pyll.base.Apply object at 0x000002215FD8A190>, <hyperopt.pyll.base.Apply object at 0x000002215FDBFE50>, <hyperopt.pyll.base.Apply object at 0x000002215FD885E0>, <hyperopt.pyll.base.Apply object at 0x000002214B988DC0>, <hyperopt.pyll.base.Apply object at 0x000002215B4F04C0>, <hyperopt.pyll.base.Apply object at 0x000002214B9076A0>, <hyperopt.pyll.base.Apply object at 0x000002215FD885B0>, <hyperopt.pyll.base.Apply object at 0x000002215FDBFF70>, <hyperopt.pyll.base.Apply object at 0x000002215EA579D0>, <hyperopt.pyll.base.Apply object at 0x000002215FE2BDC0>, <hyperopt.pyll.base.Apply object at 0x000002215FD8A280>, <hyperopt.pyll.base.Apply object at 0x000002215FD8A6A0>]\n"
     ]
    }
   ],
   "source": [
    "from hyperopt import hp, tpe, Trials, fmin, anneal, STATUS_OK\n",
    "\n",
    "# space2 = [hp.uniform('MDEC-23', 0, 55),\n",
    "#          hp.uniform('MLogP', 1, 6),\n",
    "#          hp.uniform('LipoaffinityIndex', -5, 25),\n",
    "#          hp.uniform('maxsOH', 0, 13),\n",
    "#          hp.uniform('nC', 5, 100),\n",
    "#          hp.uniform('nT6Ring', 0, 10),\n",
    "#          hp.uniform('minsssN', 0, 3),\n",
    "#          hp.uniform('BCUTp-1h', 5, 20),\n",
    "#          hp.uniform('C2SP2', 0, 25),\n",
    "#          hp.uniform('AMR', 54, 520),\n",
    "#          hp.uniform('WPOL', 14, 250),\n",
    "#          hp.uniform('SP-5', 1, 30),\n",
    "#          hp.uniform('CrippenLogP', -15, 12),\n",
    "#          hp.uniform('MDEC-22', 0, 35),\n",
    "#          hp.uniform('nBonds2', 22, 343),\n",
    "#          hp.uniform('Zagreb', 62, 750),\n",
    "#          hp.uniform('ATSp4', 700, 20000),\n",
    "#          hp.uniform('VAdjMat', 0, 10),\n",
    "#          hp.uniform('ATSc3', -1, 1),\n",
    "#          hp.uniform('ETA_Alpha', 5, 75)]\n",
    "# 优化函数\n",
    "\n",
    "space = []\n",
    "\n",
    "raw_df_e = raw_df[Q4_final_select]\n",
    "s_max = raw_df_e.max()\n",
    "s_min = raw_df_e.min()\n",
    "index = list(del_df)\n",
    "\n",
    "for i in index:\n",
    "    sc = int(abs(s_min[i] - s_max[i])/10)\n",
    "    print(i, s_min[i], s_max[i],sc)\n",
    "    space.append(hp.uniform(i, s_min[i],s_max[i]))\n",
    "\n",
    "print(space)"
   ],
   "metadata": {
    "collapsed": false,
    "pycharm": {
     "name": "#%%\n"
    }
   }
  },
  {
   "cell_type": "code",
   "execution_count": 228,
   "outputs": [
    {
     "name": "stdout",
     "output_type": "stream",
     "text": [
      "100%|██████████| 500/500 [00:56<00:00,  8.87trial/s, best loss: -8.891376192892707]\n",
      "{'AMR': 225.56204237724455, 'ATSc3': -0.07219604677858472, 'ATSp4': 8672.29266719364, 'BCUTp-1h': 13.002514272349483, 'C2SP2': 18.644711374647045, 'CrippenLogP': 6.546480463993751, 'ETA_Alpha': 58.979853871828, 'LipoaffinityIndex': 16.606284413049927, 'MDEC-22': 23.286016522048996, 'MDEC-23': 33.04702919327439, 'MLogP': 4.209760161453647, 'SP-5': 13.924649631068881, 'VAdjMat': 7.035289449586315, 'WPOL': 66.8096265598032, 'Zagreb': 325.164058795391, 'maxsOH': 4.983348346341054, 'minsssN': 2.45934891137049, 'nBonds2': 180.4822464442379, 'nC': 45.54239502891602, 'nT6Ring': 4.291762705602099}\n",
      "[{'loss': -7.617849015516352, 'status': 'ok'}, {'loss': -7.142790634228884, 'status': 'ok'}, {'loss': -6.302130959395221, 'status': 'ok'}, {'loss': -6.601856958622601, 'status': 'ok'}, {'loss': -7.182989128164136, 'status': 'ok'}, {'loss': -7.279127287114215, 'status': 'ok'}, {'loss': -6.5410355821877975, 'status': 'ok'}, {'loss': -7.586485155032008, 'status': 'ok'}, {'loss': -6.611183861388332, 'status': 'ok'}, {'loss': -7.528549305163549, 'status': 'ok'}, {'loss': -7.354992935643594, 'status': 'ok'}, {'loss': -6.960630839855293, 'status': 'ok'}, {'loss': -6.259765891062581, 'status': 'ok'}, {'loss': -7.3424710242452385, 'status': 'ok'}, {'loss': -7.284231153252281, 'status': 'ok'}, {'loss': -7.368881825604827, 'status': 'ok'}, {'loss': -7.55478922343271, 'status': 'ok'}, {'loss': -6.913153913957334, 'status': 'ok'}, {'loss': -7.578246410256617, 'status': 'ok'}, {'loss': -8.436041164798722, 'status': 'ok'}, {'loss': -8.302834637133067, 'status': 'ok'}, {'loss': -7.319112692214751, 'status': 'ok'}, {'loss': -7.497147314560573, 'status': 'ok'}, {'loss': -6.757071069409397, 'status': 'ok'}, {'loss': -8.117589958888484, 'status': 'ok'}, {'loss': -8.03344415716569, 'status': 'ok'}, {'loss': -8.324790204344339, 'status': 'ok'}, {'loss': -7.443120760894743, 'status': 'ok'}, {'loss': -8.282744894118952, 'status': 'ok'}, {'loss': -7.851334649745906, 'status': 'ok'}, {'loss': -7.960482767650832, 'status': 'ok'}, {'loss': -7.712851075797714, 'status': 'ok'}, {'loss': -7.782470324667696, 'status': 'ok'}, {'loss': -7.375560443237847, 'status': 'ok'}, {'loss': -8.092103161868861, 'status': 'ok'}, {'loss': -7.588135301347001, 'status': 'ok'}, {'loss': -8.061254081753653, 'status': 'ok'}, {'loss': -7.857923413010181, 'status': 'ok'}, {'loss': -8.179727671368504, 'status': 'ok'}, {'loss': -8.3869268032349, 'status': 'ok'}, {'loss': -7.609173715735803, 'status': 'ok'}, {'loss': -8.652288905298619, 'status': 'ok'}, {'loss': -8.613125382927347, 'status': 'ok'}, {'loss': -8.399850675239822, 'status': 'ok'}, {'loss': -8.671345963795265, 'status': 'ok'}, {'loss': -7.875306395348904, 'status': 'ok'}, {'loss': -8.471082922782388, 'status': 'ok'}, {'loss': -8.547809324480111, 'status': 'ok'}, {'loss': -8.115041658372771, 'status': 'ok'}, {'loss': -8.758876844507832, 'status': 'ok'}, {'loss': -8.535193736250019, 'status': 'ok'}, {'loss': -8.130920418275513, 'status': 'ok'}, {'loss': -8.280288601143948, 'status': 'ok'}, {'loss': -8.277520911474204, 'status': 'ok'}, {'loss': -8.604056768315484, 'status': 'ok'}, {'loss': -8.308354019673434, 'status': 'ok'}, {'loss': -8.507830328686577, 'status': 'ok'}, {'loss': -8.31655069400162, 'status': 'ok'}, {'loss': -8.36773948893424, 'status': 'ok'}, {'loss': -8.548674496690845, 'status': 'ok'}, {'loss': -8.627880751854992, 'status': 'ok'}, {'loss': -8.651774511207625, 'status': 'ok'}, {'loss': -8.489952913029647, 'status': 'ok'}, {'loss': -8.294452839206965, 'status': 'ok'}, {'loss': -8.39921531072634, 'status': 'ok'}, {'loss': -7.979885100697527, 'status': 'ok'}, {'loss': -8.304463145310546, 'status': 'ok'}, {'loss': -7.946071813622588, 'status': 'ok'}, {'loss': -8.414413827991424, 'status': 'ok'}, {'loss': -8.729158117920772, 'status': 'ok'}, {'loss': -8.459905931160865, 'status': 'ok'}, {'loss': -8.483760492080958, 'status': 'ok'}, {'loss': -8.64087314343594, 'status': 'ok'}, {'loss': -8.03090550986627, 'status': 'ok'}, {'loss': -8.647754244901295, 'status': 'ok'}, {'loss': -8.162567137346333, 'status': 'ok'}, {'loss': -8.46504695096049, 'status': 'ok'}, {'loss': -7.652249957624693, 'status': 'ok'}, {'loss': -8.466641122465512, 'status': 'ok'}, {'loss': -8.244337683376443, 'status': 'ok'}, {'loss': -8.314449001589736, 'status': 'ok'}, {'loss': -8.71117670647369, 'status': 'ok'}, {'loss': -8.208962408001415, 'status': 'ok'}, {'loss': -8.248815304097224, 'status': 'ok'}, {'loss': -8.51694288137443, 'status': 'ok'}, {'loss': -8.313445104606117, 'status': 'ok'}, {'loss': -7.925202139130259, 'status': 'ok'}, {'loss': -8.552145845768134, 'status': 'ok'}, {'loss': -7.3104107263130444, 'status': 'ok'}, {'loss': -8.436691078714302, 'status': 'ok'}, {'loss': -7.869650037170967, 'status': 'ok'}, {'loss': -8.41125529505312, 'status': 'ok'}, {'loss': -8.563349395606664, 'status': 'ok'}, {'loss': -8.335259927478202, 'status': 'ok'}, {'loss': -8.231333733402472, 'status': 'ok'}, {'loss': -8.337400470203143, 'status': 'ok'}, {'loss': -8.562805273458238, 'status': 'ok'}, {'loss': -8.563088847166394, 'status': 'ok'}, {'loss': -8.202775946501934, 'status': 'ok'}, {'loss': -8.577632062110702, 'status': 'ok'}, {'loss': -8.326641972268346, 'status': 'ok'}, {'loss': -8.20636931206596, 'status': 'ok'}, {'loss': -8.550756207621053, 'status': 'ok'}, {'loss': -8.389058996158209, 'status': 'ok'}, {'loss': -8.75165536573586, 'status': 'ok'}, {'loss': -8.425337262833612, 'status': 'ok'}, {'loss': -8.3051788035973, 'status': 'ok'}, {'loss': -8.30518631486338, 'status': 'ok'}, {'loss': -8.703790334949153, 'status': 'ok'}, {'loss': -8.368095737176649, 'status': 'ok'}, {'loss': -8.423239503125806, 'status': 'ok'}, {'loss': -8.27200376864809, 'status': 'ok'}, {'loss': -8.436518319786739, 'status': 'ok'}, {'loss': -8.364488741661678, 'status': 'ok'}, {'loss': -8.660537816311248, 'status': 'ok'}, {'loss': -8.361087000991828, 'status': 'ok'}, {'loss': -8.456628487708201, 'status': 'ok'}, {'loss': -8.765285728628275, 'status': 'ok'}, {'loss': -8.231600459291071, 'status': 'ok'}, {'loss': -8.736334449067911, 'status': 'ok'}, {'loss': -8.139037546025559, 'status': 'ok'}, {'loss': -8.42085570283481, 'status': 'ok'}, {'loss': -8.458294695534759, 'status': 'ok'}, {'loss': -8.680542971877864, 'status': 'ok'}, {'loss': -8.730808476409297, 'status': 'ok'}, {'loss': -8.66152205493194, 'status': 'ok'}, {'loss': -8.391564575417393, 'status': 'ok'}, {'loss': -8.797126254383421, 'status': 'ok'}, {'loss': -8.697239507899905, 'status': 'ok'}, {'loss': -8.467535247916569, 'status': 'ok'}, {'loss': -8.549280993702284, 'status': 'ok'}, {'loss': -8.522530351719077, 'status': 'ok'}, {'loss': -8.747680683802333, 'status': 'ok'}, {'loss': -8.768998882261457, 'status': 'ok'}, {'loss': -8.715274004076225, 'status': 'ok'}, {'loss': -8.795679326041775, 'status': 'ok'}, {'loss': -8.581258480709446, 'status': 'ok'}, {'loss': -8.35085337044708, 'status': 'ok'}, {'loss': -8.582742587869749, 'status': 'ok'}, {'loss': -8.70858629065602, 'status': 'ok'}, {'loss': -8.659838108078329, 'status': 'ok'}, {'loss': -8.736952193500375, 'status': 'ok'}, {'loss': -8.564440161094048, 'status': 'ok'}, {'loss': -8.626525679067068, 'status': 'ok'}, {'loss': -8.515927854389382, 'status': 'ok'}, {'loss': -8.526929603776587, 'status': 'ok'}, {'loss': -8.437757661582348, 'status': 'ok'}, {'loss': -8.396738896323244, 'status': 'ok'}, {'loss': -8.563828051640499, 'status': 'ok'}, {'loss': -8.754356234807666, 'status': 'ok'}, {'loss': -8.769382942933664, 'status': 'ok'}, {'loss': -8.483997456413547, 'status': 'ok'}, {'loss': -8.74303095230733, 'status': 'ok'}, {'loss': -8.534205386031253, 'status': 'ok'}, {'loss': -8.689583225983036, 'status': 'ok'}, {'loss': -8.275347739103927, 'status': 'ok'}, {'loss': -8.439937523981769, 'status': 'ok'}, {'loss': -8.538313666100013, 'status': 'ok'}, {'loss': -8.59102080368228, 'status': 'ok'}, {'loss': -8.567771349269169, 'status': 'ok'}, {'loss': -8.570598394253818, 'status': 'ok'}, {'loss': -8.715618327900291, 'status': 'ok'}, {'loss': -8.59058166010049, 'status': 'ok'}, {'loss': -8.625037328698767, 'status': 'ok'}, {'loss': -8.21369767129736, 'status': 'ok'}, {'loss': -8.369976117812735, 'status': 'ok'}, {'loss': -8.68620697487907, 'status': 'ok'}, {'loss': -8.281487083483842, 'status': 'ok'}, {'loss': -8.557299744604972, 'status': 'ok'}, {'loss': -8.814957513243694, 'status': 'ok'}, {'loss': -8.442275017446482, 'status': 'ok'}, {'loss': -8.714942268272399, 'status': 'ok'}, {'loss': -8.39305247448102, 'status': 'ok'}, {'loss': -8.715887054264076, 'status': 'ok'}, {'loss': -8.491807938610881, 'status': 'ok'}, {'loss': -8.681931553434667, 'status': 'ok'}, {'loss': -8.481188243833575, 'status': 'ok'}, {'loss': -8.136458969191764, 'status': 'ok'}, {'loss': -8.774797195350121, 'status': 'ok'}, {'loss': -8.710180754301822, 'status': 'ok'}, {'loss': -8.575389844574094, 'status': 'ok'}, {'loss': -8.358239494936603, 'status': 'ok'}, {'loss': -8.756132031543457, 'status': 'ok'}, {'loss': -8.457908045640746, 'status': 'ok'}, {'loss': -8.736946528084186, 'status': 'ok'}, {'loss': -8.804721080779656, 'status': 'ok'}, {'loss': -8.797533519457234, 'status': 'ok'}, {'loss': -8.668296039721817, 'status': 'ok'}, {'loss': -8.729156529207632, 'status': 'ok'}, {'loss': -8.643710058682384, 'status': 'ok'}, {'loss': -8.83873561590283, 'status': 'ok'}, {'loss': -8.59095759834776, 'status': 'ok'}, {'loss': -8.82670724384344, 'status': 'ok'}, {'loss': -8.885973293752878, 'status': 'ok'}, {'loss': -8.599823788654072, 'status': 'ok'}, {'loss': -8.539642121440938, 'status': 'ok'}, {'loss': -8.87070764913424, 'status': 'ok'}, {'loss': -8.806196319803721, 'status': 'ok'}, {'loss': -8.566626932964132, 'status': 'ok'}, {'loss': -8.847331854030035, 'status': 'ok'}, {'loss': -8.59161944179763, 'status': 'ok'}, {'loss': -8.763424919923448, 'status': 'ok'}, {'loss': -8.695357565827106, 'status': 'ok'}, {'loss': -8.803165699418603, 'status': 'ok'}, {'loss': -8.782423973899082, 'status': 'ok'}, {'loss': -8.675912001463052, 'status': 'ok'}, {'loss': -8.421776532358514, 'status': 'ok'}, {'loss': -8.747856213165717, 'status': 'ok'}, {'loss': -8.661733435626521, 'status': 'ok'}, {'loss': -8.749889897101527, 'status': 'ok'}, {'loss': -8.572587960593374, 'status': 'ok'}, {'loss': -8.49026434047606, 'status': 'ok'}, {'loss': -8.720655330779685, 'status': 'ok'}, {'loss': -8.708777863222597, 'status': 'ok'}, {'loss': -8.617114335111204, 'status': 'ok'}, {'loss': -8.635827233963102, 'status': 'ok'}, {'loss': -8.742789701932765, 'status': 'ok'}, {'loss': -8.803150390709208, 'status': 'ok'}, {'loss': -8.488817031040027, 'status': 'ok'}, {'loss': -8.721503383707232, 'status': 'ok'}, {'loss': -8.734280545256858, 'status': 'ok'}, {'loss': -8.707770729541814, 'status': 'ok'}, {'loss': -8.729505352138844, 'status': 'ok'}, {'loss': -8.76292387057724, 'status': 'ok'}, {'loss': -8.573981616885167, 'status': 'ok'}, {'loss': -8.779948320418303, 'status': 'ok'}, {'loss': -8.71404461070243, 'status': 'ok'}, {'loss': -8.568813048050348, 'status': 'ok'}, {'loss': -8.644362314992408, 'status': 'ok'}, {'loss': -8.774150937408594, 'status': 'ok'}, {'loss': -8.745413146847206, 'status': 'ok'}, {'loss': -8.735650136060924, 'status': 'ok'}, {'loss': -8.83629086051818, 'status': 'ok'}, {'loss': -8.863478251162737, 'status': 'ok'}, {'loss': -8.71598764258821, 'status': 'ok'}, {'loss': -8.721126384405014, 'status': 'ok'}, {'loss': -8.80861745436016, 'status': 'ok'}, {'loss': -8.85006584541745, 'status': 'ok'}, {'loss': -8.721732551723612, 'status': 'ok'}, {'loss': -8.803788945827547, 'status': 'ok'}, {'loss': -8.632769995593886, 'status': 'ok'}, {'loss': -8.738116640378973, 'status': 'ok'}, {'loss': -8.730192082786946, 'status': 'ok'}, {'loss': -8.860067764112443, 'status': 'ok'}, {'loss': -8.573001718501077, 'status': 'ok'}, {'loss': -8.631292929072435, 'status': 'ok'}, {'loss': -8.655625476034736, 'status': 'ok'}, {'loss': -8.771953729216662, 'status': 'ok'}, {'loss': -8.823421967254925, 'status': 'ok'}, {'loss': -8.692202271921131, 'status': 'ok'}, {'loss': -8.813178111073864, 'status': 'ok'}, {'loss': -8.73727856463524, 'status': 'ok'}, {'loss': -8.707834529270613, 'status': 'ok'}, {'loss': -8.584449788132442, 'status': 'ok'}, {'loss': -8.756129056309678, 'status': 'ok'}, {'loss': -8.767422346152571, 'status': 'ok'}, {'loss': -8.799215764499689, 'status': 'ok'}, {'loss': -8.779900284038238, 'status': 'ok'}, {'loss': -8.715759208695522, 'status': 'ok'}, {'loss': -8.77663416886293, 'status': 'ok'}, {'loss': -8.58571098657277, 'status': 'ok'}, {'loss': -8.790549566325625, 'status': 'ok'}, {'loss': -8.836018790408293, 'status': 'ok'}, {'loss': -8.875943670810177, 'status': 'ok'}, {'loss': -8.608294023460553, 'status': 'ok'}, {'loss': -8.815431637697902, 'status': 'ok'}, {'loss': -8.730489794523695, 'status': 'ok'}, {'loss': -8.599127348605478, 'status': 'ok'}, {'loss': -8.660877656630179, 'status': 'ok'}, {'loss': -8.822542459322676, 'status': 'ok'}, {'loss': -8.809163285500691, 'status': 'ok'}, {'loss': -8.507531424695529, 'status': 'ok'}, {'loss': -8.793439472831917, 'status': 'ok'}, {'loss': -8.802664766853281, 'status': 'ok'}, {'loss': -8.702915933905246, 'status': 'ok'}, {'loss': -8.793622260087414, 'status': 'ok'}, {'loss': -8.738945205369419, 'status': 'ok'}, {'loss': -8.769504089995209, 'status': 'ok'}, {'loss': -8.748203688457902, 'status': 'ok'}, {'loss': -8.821682323511318, 'status': 'ok'}, {'loss': -8.873064773194573, 'status': 'ok'}, {'loss': -8.610194492082115, 'status': 'ok'}, {'loss': -8.791009761156715, 'status': 'ok'}, {'loss': -8.755931110154602, 'status': 'ok'}, {'loss': -8.743438044789013, 'status': 'ok'}, {'loss': -8.531315167489414, 'status': 'ok'}, {'loss': -8.732446368928969, 'status': 'ok'}, {'loss': -8.711361438445234, 'status': 'ok'}, {'loss': -8.754033203959237, 'status': 'ok'}, {'loss': -8.820575040629013, 'status': 'ok'}, {'loss': -8.728845892343, 'status': 'ok'}, {'loss': -8.717626903217216, 'status': 'ok'}, {'loss': -8.872484884410078, 'status': 'ok'}, {'loss': -8.842993364045576, 'status': 'ok'}, {'loss': -8.660392564470339, 'status': 'ok'}, {'loss': -8.70666849734711, 'status': 'ok'}, {'loss': -8.556482725528674, 'status': 'ok'}, {'loss': -8.779532624641622, 'status': 'ok'}, {'loss': -8.73793890579462, 'status': 'ok'}, {'loss': -8.734771899815653, 'status': 'ok'}, {'loss': -8.731730184717726, 'status': 'ok'}, {'loss': -8.613849413628646, 'status': 'ok'}, {'loss': -8.720151401187284, 'status': 'ok'}, {'loss': -8.701944416945736, 'status': 'ok'}, {'loss': -8.79300524728043, 'status': 'ok'}, {'loss': -8.7423808203009, 'status': 'ok'}, {'loss': -8.750564715721014, 'status': 'ok'}, {'loss': -8.798837509217929, 'status': 'ok'}, {'loss': -8.726410813464417, 'status': 'ok'}, {'loss': -8.721755785540875, 'status': 'ok'}, {'loss': -8.740320430406777, 'status': 'ok'}, {'loss': -8.86132775498142, 'status': 'ok'}, {'loss': -8.595077324173838, 'status': 'ok'}, {'loss': -8.743420487715877, 'status': 'ok'}, {'loss': -8.850741955866269, 'status': 'ok'}, {'loss': -8.877897230201519, 'status': 'ok'}, {'loss': -8.73739168724143, 'status': 'ok'}, {'loss': -8.741305832225935, 'status': 'ok'}, {'loss': -8.798679141107499, 'status': 'ok'}, {'loss': -8.83794748716269, 'status': 'ok'}, {'loss': -8.72391290195823, 'status': 'ok'}, {'loss': -8.819757319867708, 'status': 'ok'}, {'loss': -8.815809813565714, 'status': 'ok'}, {'loss': -8.867552003116593, 'status': 'ok'}, {'loss': -8.644924896889, 'status': 'ok'}, {'loss': -8.876341743960982, 'status': 'ok'}, {'loss': -8.78834145257568, 'status': 'ok'}, {'loss': -8.728067275464927, 'status': 'ok'}, {'loss': -8.739561875630109, 'status': 'ok'}, {'loss': -8.742108739925204, 'status': 'ok'}, {'loss': -8.818615144215869, 'status': 'ok'}, {'loss': -8.817266112816776, 'status': 'ok'}, {'loss': -8.887953117345624, 'status': 'ok'}, {'loss': -8.765828273327514, 'status': 'ok'}, {'loss': -8.726996913994883, 'status': 'ok'}, {'loss': -8.73912828097617, 'status': 'ok'}, {'loss': -8.760416263106436, 'status': 'ok'}, {'loss': -8.7234587353746, 'status': 'ok'}, {'loss': -8.741531083539003, 'status': 'ok'}, {'loss': -8.87383618264597, 'status': 'ok'}, {'loss': -8.809175997158157, 'status': 'ok'}, {'loss': -8.681011390408546, 'status': 'ok'}, {'loss': -8.885109425611937, 'status': 'ok'}, {'loss': -8.747584446820147, 'status': 'ok'}, {'loss': -8.621014088996183, 'status': 'ok'}, {'loss': -8.775045139905554, 'status': 'ok'}, {'loss': -8.82904050769797, 'status': 'ok'}, {'loss': -8.757473390982472, 'status': 'ok'}, {'loss': -8.714194765540743, 'status': 'ok'}, {'loss': -8.721904985770852, 'status': 'ok'}, {'loss': -8.599826115054595, 'status': 'ok'}, {'loss': -8.739327809302367, 'status': 'ok'}, {'loss': -8.811701639790133, 'status': 'ok'}, {'loss': -8.733088331941584, 'status': 'ok'}, {'loss': -8.68460191369004, 'status': 'ok'}, {'loss': -8.837207364646002, 'status': 'ok'}, {'loss': -8.769643192546193, 'status': 'ok'}, {'loss': -8.846449295593388, 'status': 'ok'}, {'loss': -8.723976246730675, 'status': 'ok'}, {'loss': -8.620978454069563, 'status': 'ok'}, {'loss': -8.859405027024664, 'status': 'ok'}, {'loss': -8.864345557047997, 'status': 'ok'}, {'loss': -8.794954211821421, 'status': 'ok'}, {'loss': -8.844964582089334, 'status': 'ok'}, {'loss': -8.719164944638678, 'status': 'ok'}, {'loss': -8.791672611350787, 'status': 'ok'}, {'loss': -8.813101602133859, 'status': 'ok'}, {'loss': -8.844233136700423, 'status': 'ok'}, {'loss': -8.757595633581456, 'status': 'ok'}, {'loss': -8.81672185964316, 'status': 'ok'}, {'loss': -8.79332482431364, 'status': 'ok'}, {'loss': -8.739829748215362, 'status': 'ok'}, {'loss': -8.861265818364686, 'status': 'ok'}, {'loss': -8.752354193051815, 'status': 'ok'}, {'loss': -8.839678967942557, 'status': 'ok'}, {'loss': -8.767278499471672, 'status': 'ok'}, {'loss': -8.742314935560923, 'status': 'ok'}, {'loss': -8.71930446372733, 'status': 'ok'}, {'loss': -8.807931567896016, 'status': 'ok'}, {'loss': -8.781254289792912, 'status': 'ok'}, {'loss': -8.671838858092007, 'status': 'ok'}, {'loss': -8.75096015360352, 'status': 'ok'}, {'loss': -8.586475368828697, 'status': 'ok'}, {'loss': -8.728191560514894, 'status': 'ok'}, {'loss': -8.730726880200463, 'status': 'ok'}, {'loss': -8.771148583463763, 'status': 'ok'}, {'loss': -8.827175471682413, 'status': 'ok'}, {'loss': -8.662629752364108, 'status': 'ok'}, {'loss': -8.862171594804924, 'status': 'ok'}, {'loss': -8.687230221564334, 'status': 'ok'}, {'loss': -8.744861075951743, 'status': 'ok'}, {'loss': -8.813494771160947, 'status': 'ok'}, {'loss': -8.645731801953342, 'status': 'ok'}, {'loss': -8.814707516440526, 'status': 'ok'}, {'loss': -8.891376192892707, 'status': 'ok'}, {'loss': -8.858832629348061, 'status': 'ok'}, {'loss': -8.818035969445, 'status': 'ok'}, {'loss': -8.729948200588238, 'status': 'ok'}, {'loss': -8.839634355579346, 'status': 'ok'}, {'loss': -8.72167326242223, 'status': 'ok'}, {'loss': -8.819849507767929, 'status': 'ok'}, {'loss': -8.856689285187397, 'status': 'ok'}, {'loss': -8.791935088081143, 'status': 'ok'}, {'loss': -8.771532714187872, 'status': 'ok'}, {'loss': -8.838255111232822, 'status': 'ok'}, {'loss': -8.754711026705724, 'status': 'ok'}, {'loss': -8.735687456451675, 'status': 'ok'}, {'loss': -8.749295186145204, 'status': 'ok'}, {'loss': -8.660554329804683, 'status': 'ok'}, {'loss': -8.751760989299296, 'status': 'ok'}, {'loss': -8.829238457146255, 'status': 'ok'}, {'loss': -8.841554749451083, 'status': 'ok'}, {'loss': -8.657314299502346, 'status': 'ok'}, {'loss': -8.850414457416296, 'status': 'ok'}, {'loss': -8.77841939067443, 'status': 'ok'}, {'loss': -8.861031998526848, 'status': 'ok'}, {'loss': -8.867865365840213, 'status': 'ok'}, {'loss': -8.831227302582235, 'status': 'ok'}, {'loss': -8.791352030335513, 'status': 'ok'}, {'loss': -8.82568556410325, 'status': 'ok'}, {'loss': -8.7921199132421, 'status': 'ok'}, {'loss': -8.823325987495195, 'status': 'ok'}, {'loss': -8.794857581045958, 'status': 'ok'}, {'loss': -8.715773591611086, 'status': 'ok'}, {'loss': -8.84351851692091, 'status': 'ok'}, {'loss': -8.823068469410817, 'status': 'ok'}, {'loss': -8.712209606473369, 'status': 'ok'}, {'loss': -8.714697232493826, 'status': 'ok'}, {'loss': -8.791114886330401, 'status': 'ok'}, {'loss': -8.841817916244661, 'status': 'ok'}, {'loss': -8.805004094572197, 'status': 'ok'}, {'loss': -8.75048764640856, 'status': 'ok'}, {'loss': -8.864180885879245, 'status': 'ok'}, {'loss': -8.853455166836394, 'status': 'ok'}, {'loss': -8.826340172432333, 'status': 'ok'}, {'loss': -8.77983119313741, 'status': 'ok'}, {'loss': -8.762577571232512, 'status': 'ok'}, {'loss': -8.78518493997455, 'status': 'ok'}, {'loss': -8.80411288149698, 'status': 'ok'}, {'loss': -8.851702912274419, 'status': 'ok'}, {'loss': -8.771004349756709, 'status': 'ok'}, {'loss': -8.848174858766665, 'status': 'ok'}, {'loss': -8.86912634863196, 'status': 'ok'}, {'loss': -8.703365876245876, 'status': 'ok'}, {'loss': -8.824757382415388, 'status': 'ok'}, {'loss': -8.7874403856372, 'status': 'ok'}, {'loss': -8.769196905354093, 'status': 'ok'}, {'loss': -8.704868331756243, 'status': 'ok'}, {'loss': -8.856449592956784, 'status': 'ok'}, {'loss': -8.70557623430134, 'status': 'ok'}, {'loss': -8.876405566920042, 'status': 'ok'}, {'loss': -8.789289578399497, 'status': 'ok'}, {'loss': -8.864798599631094, 'status': 'ok'}, {'loss': -8.75540319037119, 'status': 'ok'}, {'loss': -8.754825748660865, 'status': 'ok'}, {'loss': -8.852300877657973, 'status': 'ok'}, {'loss': -8.836115175011763, 'status': 'ok'}, {'loss': -8.778822481944546, 'status': 'ok'}, {'loss': -8.854159145465086, 'status': 'ok'}, {'loss': -8.771671333272169, 'status': 'ok'}, {'loss': -8.659157905770968, 'status': 'ok'}, {'loss': -8.858506526865758, 'status': 'ok'}, {'loss': -8.70020825747746, 'status': 'ok'}, {'loss': -8.73605294031119, 'status': 'ok'}, {'loss': -8.799012990528418, 'status': 'ok'}, {'loss': -8.810159397474397, 'status': 'ok'}, {'loss': -8.853077735738974, 'status': 'ok'}, {'loss': -8.708883795699872, 'status': 'ok'}, {'loss': -8.703187792666242, 'status': 'ok'}, {'loss': -8.843765807147438, 'status': 'ok'}, {'loss': -8.857240904591265, 'status': 'ok'}, {'loss': -8.810031667238256, 'status': 'ok'}, {'loss': -8.836639254502872, 'status': 'ok'}, {'loss': -8.872968862475762, 'status': 'ok'}, {'loss': -8.711190597728304, 'status': 'ok'}, {'loss': -8.840431159366183, 'status': 'ok'}, {'loss': -8.683537019547611, 'status': 'ok'}, {'loss': -8.732556732545936, 'status': 'ok'}, {'loss': -8.810435153014932, 'status': 'ok'}, {'loss': -8.800481811037049, 'status': 'ok'}, {'loss': -8.844526176917325, 'status': 'ok'}, {'loss': -8.811561972421034, 'status': 'ok'}, {'loss': -8.757188461363304, 'status': 'ok'}, {'loss': -8.826675259950601, 'status': 'ok'}, {'loss': -8.825926693180577, 'status': 'ok'}, {'loss': -8.858968591196449, 'status': 'ok'}, {'loss': -8.860952408200312, 'status': 'ok'}, {'loss': -8.758320215971285, 'status': 'ok'}, {'loss': -8.793287254609037, 'status': 'ok'}, {'loss': -8.77634325197149, 'status': 'ok'}, {'loss': -8.86993262609896, 'status': 'ok'}, {'loss': -8.829024801725106, 'status': 'ok'}, {'loss': -8.827313143443883, 'status': 'ok'}, {'loss': -8.844372864865596, 'status': 'ok'}, {'loss': -8.835597589263141, 'status': 'ok'}, {'loss': -8.756312898545676, 'status': 'ok'}, {'loss': -8.878729698877763, 'status': 'ok'}, {'loss': -8.798467960932197, 'status': 'ok'}, {'loss': -8.814970579119557, 'status': 'ok'}, {'loss': -8.850581097078685, 'status': 'ok'}]\n"
     ]
    }
   ],
   "source": [
    "# space = [hp.uniform('MDEC-23', 0, 55),\n",
    "#          hp.uniform('MLogP', 1, 6),\n",
    "#          hp.uniform('LipoaffinityIndex', -5, 25),\n",
    "#          hp.uniform('maxsOH', 0, 13),\n",
    "#          hp.uniform('nC', 5, 100),\n",
    "#          hp.uniform('nT6Ring', 0, 10),\n",
    "#          hp.uniform('minsssN', 0, 3),\n",
    "#          hp.uniform('BCUTp-1h', 5, 20),\n",
    "#          hp.uniform('C2SP2', 0, 25),\n",
    "#          hp.uniform('AMR', 54, 520),\n",
    "#          hp.uniform('WPOL', 14, 250),\n",
    "#          hp.uniform('SP-5', 1, 30),\n",
    "#          hp.uniform('CrippenLogP', -15, 12),\n",
    "#          hp.uniform('MDEC-22', 0, 35),\n",
    "#          hp.uniform('nBonds2', 22, 343),\n",
    "#          hp.uniform('Zagreb', 62, 750),\n",
    "#          hp.uniform('ATSp4', 700, 20000),\n",
    "#          hp.uniform('VAdjMat', 0, 10),\n",
    "#          hp.uniform('ATSc3', -1, 1),\n",
    "#          hp.uniform('ETA_Alpha', 5, 75)]\n",
    "\n",
    "max_evals = 500\n",
    "tpe_algo = anneal.suggest\n",
    "# tpe_algo = tpe.suggest\n",
    "trials = Trials()\n",
    "best = fmin(fn=objective, space=space, algo=tpe_algo, trials=trials,\n",
    "            max_evals=max_evals)\n",
    "print(best)\n",
    "print(trials.results)\n"
   ],
   "metadata": {
    "collapsed": false,
    "pycharm": {
     "name": "#%%\n"
    }
   }
  },
  {
   "cell_type": "code",
   "execution_count": 192,
   "outputs": [
    {
     "name": "stdout",
     "output_type": "stream",
     "text": [
      "[6.024422306077819, 6.328159909351266, 5.84408174918789, 7.58827499645336, 6.029505142788652, 5.8912031098889805, 6.907762125983322, 6.071392544807736, 6.666996874671203, 6.283315246786616, 5.359025101255867, 5.934265984355969, 6.016519994722044, 7.100215151535656, 7.24381941222202, 7.194787136274087, 5.868713687835491, 7.0129300653085895, 5.741110462577807, 5.933669498788311, 7.452523730465211, 7.483734167439361, 7.14113266737453, 7.63912650582113, 7.103145229819892, 6.888492674803077, 7.830605840804747, 7.912085072235991, 7.55844102325087, 7.96865179501078, 7.569384608791252, 7.162091540643538, 6.859113608492819, 7.397451427653815, 7.203742675685356, 7.473171061059773, 7.241929428264352, 7.314965558863752, 7.790290306308416, 6.813225624160731, 7.349718835111673, 7.488887391087526, 6.990232215503473, 6.869832696766325, 6.743084650177507, 6.263457723654765, 7.525660714309417, 6.703438469311105, 6.641748221554132, 7.092816244606715, 6.9948781305606875, 6.601819211333924, 7.13508063476744, 6.759100518205161, 8.204780386447627, 7.188316652303257, 6.4927893060821305, 7.215375758681127, 6.353334230371031, 7.618289471501247, 8.454385135468868, 7.228935059476796, 8.289413483591257, 7.116126858320214, 6.324633892770472, 8.524070520062189, 6.697732996999232, 8.191341955079006, 7.551412361219385, 6.472101942774192, 7.441986381060202, 7.097490923377289, 7.966887139784166, 6.865429710117992, 8.239513447980878, 6.770003570213653, 7.536035932366049, 7.537453033614047, 6.349269349409424, 6.677658261333554, 6.648746155134404, 7.851702930628255, 6.5135855162490515, 7.725716852153419, 7.08471521750074, 7.037805222095931, 7.920222184571932, 7.567517775980491, 7.7573104294474415, 8.25990059574034, 7.800510929135367, 7.758684056615847, 5.992287164855522, 6.4894731219152035, 6.652507400058861, 6.706397092598813, 7.015779639949334, 6.799807872430161, 7.787845051807544, 7.967296529487869, 7.8198070732767055, 6.482975894267359, 7.461202627173988, 6.4996454216768855, 5.971642396786654, 8.242017816044454, 8.193488516908152, 6.673304149195932, 6.023239953137965, 7.652041019861724, 6.863382669008787, 7.138961120375654, 8.140061415046706, 7.797223052204878, 6.740367659706691, 6.63552923145601, 7.655127905876255, 5.6659781807384375, 7.141437364763518, 7.4392912047357, 7.031185139267911, 7.156790338050298, 6.525796589519615, 8.24461091088543, 7.12514143640919, 7.155251794028139, 6.605136547163367, 5.83993005959525, 7.4585154202245505, 7.419949726898619, 7.943885194137248, 6.414268920137927, 7.262775704348246, 6.893344486912527, 7.112847855331166, 6.623393606326724, 6.978362088395346, 8.343463912441305, 7.6859410736746385, 7.876252306404402, 7.256974032437733, 7.364631819127426, 7.538144778965484, 7.057649197423316, 8.446748825430742, 8.719394659370725, 8.13223752134049, 7.711622705812658, 7.891500379872562, 8.142720544135724, 8.53804160418666, 8.103469450238114, 8.183507173178764, 7.371020110816076, 8.109978967674376, 7.294389727407099, 8.121402532494173, 8.045457395601659, 7.593149579974619, 7.653828623539336, 8.042292919191672, 7.700056020230663, 8.617789338307261, 7.554819701459464, 8.39413982226928, 8.026181535130727, 7.520902853020472, 7.500596770054797, 7.062303016789005, 8.141541722071565, 8.218310942737414, 8.631117877567508, 7.891454894901988, 7.358355743391366, 7.885968569905816, 7.600798383023771, 7.609129078744887, 7.422567421019946, 7.655779535728388, 7.416776168493277, 7.474838638028497, 7.409116112498329, 7.600935403726636, 8.21138501315632, 7.758528717178118, 7.766216766515408, 8.233359165813313, 7.175404017994541, 7.701969388512649, 6.956748017586826, 8.495081575050753, 8.162823792285746, 5.970672646773352, 6.5943349151674635, 7.878336845116039, 8.749361790381489, 8.464615667852076, 7.041363388833823, 7.594808952791402, 7.561619622113364, 7.663962382600354, 8.725309139715067, 7.768049677162533, 8.930854811525009, 7.591087693241674, 7.347132888692718, 7.382641400393297, 7.696685031263903, 7.12022980609549, 7.558569903410604, 7.380787158151844, 8.221439466262643, 8.640538003912855, 7.706353596321163, 7.739682240358372, 7.25628208334956, 7.6966222684524634, 7.673002449241258, 7.4153886632047294, 7.370531688879424, 7.830866136616458, 7.217407940448151, 7.123934581180416, 7.7033194545598365, 7.430837206788601, 7.1104381289652085, 8.10488990271729, 7.877484491254231, 7.094101223510224, 6.298125338839075, 7.762588693783147, 7.101261162542928, 6.529171386204438, 6.992415685743674, 7.485241695380362, 7.446568490862453, 7.505306178939933, 7.144464026326963, 8.30162936174955, 7.0582591225210765, 7.629558955007354, 7.454333218408815, 7.896728101147812, 6.174902601337699, 8.201826473747325, 6.511760640816963, 7.6763327998457855, 7.710265890558032, 6.9567853843084615, 6.639628755135492, 6.622601711548387, 9.33830678875395, 6.638743969750447, 8.965347490711757, 7.171781904329212, 7.328634829742807, 8.271295647610783, 8.297659678717853, 8.553409548720207, 7.677069477323587, 8.303105841075231, 7.718307018576531, 8.876575576141057, 7.159991049997277, 8.867256767073169, 7.45522289046554, 8.240981106233074, 7.347805845961475, 7.598339119074178, 7.4771105360740115, 7.523871509286096, 8.210867454269282, 7.734288035590449, 8.421586583997271, 7.812773176738969, 7.277782692513485, 7.7897969927430974, 7.436881850422353, 8.742530494250957, 7.698950984585357, 8.027066764837596, 8.289245796779355, 8.466980935830557, 7.971678011216901, 7.353655197791525, 7.533544960287511, 6.8851321607240665, 7.19362484762, 7.435872932632714, 8.155518888020762, 8.506404253316017, 8.545384213331307, 7.36680768124649, 8.248280429630661, 7.325126552277555, 8.312763089392323, 7.452194383963207, 7.050841952199989, 7.8477989435289714, 8.856303736991066, 7.425552670480353, 7.6375255266120226, 7.578544035069772, 8.379280119033135, 8.300633635056199, 7.371029740520597, 7.30566416111073, 7.448994746772055, 7.424198821092923, 7.477148604870489, 6.6955013038691025, 7.493346333860725, 6.425622936725617, 8.110297232881184, 7.24523543778349, 7.917725179493198, 7.847908288301847, 7.526326682667728, 7.421699608656765, 8.677345145611273, 7.632210021183783, 7.2531100397573836, 8.877474602529873, 7.80894865970839, 7.641838910119178, 7.1307453415410365, 7.846698097171492, 7.991964533367929, 6.684262700477342, 8.025650361054645, 7.015616931316534, 7.608036159854971, 7.105238892054688, 6.597752737517393, 7.97525849126003, 7.965653100505913, 7.130518787033141, 7.0694261648591725, 7.315487428198259, 7.294696359483939, 7.131706122551951, 8.277686899610345, 7.053244106461981, 8.443011254486972, 6.478276586029837, 8.719198818310685, 6.649804175629358, 8.156400095357252, 7.927670882370528, 7.333963465695636, 7.368652919031327, 8.019644790112924, 7.168976969197409, 8.793936476590556, 7.425353724392706, 8.653655515605603, 6.712823117837351, 7.467702784299577, 7.27920053562047, 7.650162890202096, 7.457409872469716, 8.799306370559794, 7.384349298869396, 8.278592222152106, 7.4474107210183895, 7.348488030694618, 6.949652351408555, 8.320038115923321, 7.01499246207943, 7.348629719666898, 7.0898391750684215, 6.819227436952245, 7.259348322500076, 7.3880472093619405, 8.035544267943916, 6.505720785016754, 7.093469327735216, 8.19726866780827, 7.817047464456366, 7.7021857108673935, 7.381012845188695, 6.971504163231769, 7.88029918797342, 6.655881607030721, 7.237965256591411, 8.279600485584576, 7.451473589476938, 8.660512767215451, 8.058571617008946, 7.651654945183565, 7.083528866146452, 7.79622169845094, 7.1530892251228, 8.770600008865916, 9.211610748944834, 7.218175127069948, 8.319651970796986, 7.922800887141824, 7.607477942484192, 8.306504535157982, 7.066725948199909, 8.910227910573651, 8.481174165776402, 8.382958284136556, 9.016808870465018, 8.729611118919317, 8.339742778965528, 8.268821494214745, 8.015436413169336, 8.070735992186108, 8.93640533896645, 8.261646266151486, 7.966836770590296, 8.330439618794884, 8.296827665485338, 8.266217766017665, 8.622377798783837, 7.545533458681832, 7.907812403483158, 8.49181413484041, 7.950994769300951, 8.127614581033868, 8.747197764978171, 7.8931921906765234, 8.296751983992628, 8.710628286437696, 7.7462481775905285, 7.312410062577915, 7.906884662281005, 7.3449239251104865, 8.305165472618272, 8.101550900854711, 8.449037437688641, 7.4597277189102345, 8.205245615445287, 8.177630007465076, 7.501149406766301, 8.548890451769179, 8.232493200239364, 7.404885801418746, 8.560603993649991, 7.832856655643535, 9.115514268177524, 7.387316944668968, 8.450445338127924, 7.946765650603968, 8.218956914209091, 7.616424899560381, 7.595059784736744, 8.471244358437712, 8.362464802310292, 8.20292568740208, 7.633197142120017, 8.314119776032404, 8.284827480963767, 7.939715177125676, 7.072925295050035, 7.442630426479619, 7.457238607185472, 8.579119110852469, 8.715070101008347, 7.836482357930988, 6.273566910003029, 7.9438163069379915, 8.592931577971116, 8.222305607806362, 7.605657744206487, 8.667456851672199, 7.63829139637221, 8.733889843260496, 7.426735496513196, 8.589613586047891, 7.924461190259945, 7.698462470969561, 7.221293366335738, 6.705081039714704, 6.866246889672082, 7.904219362528173, 7.85911598316772, 7.8906894947456, 7.651773829952566, 8.565028023046224, 8.700186022020693, 8.184020781528712, 8.920156485173454, 7.02348709723618, 7.4353399164906335, 7.465247572651564, 8.309190340345506, 7.66416850509841, 7.968443712007157, 7.506676463397523, 7.489690942675474, 7.237280299048333, 8.745116832352355, 7.118579091473563, 9.119303751521729, 7.193607395947721, 7.185891684681733, 7.581113318149368]\n"
     ]
    }
   ],
   "source": [
    "loss = []\n",
    "for t in trials.results:\n",
    "    loss.append(-(t.get('loss')))\n",
    "print(loss)"
   ],
   "metadata": {
    "collapsed": false,
    "pycharm": {
     "name": "#%%\n"
    }
   }
  },
  {
   "cell_type": "code",
   "execution_count": null,
   "outputs": [],
   "source": [
    "ax = sns.scatterplot( data=loss)\n",
    "plt.title('Scatter of hue')\n",
    "plt.grid()\n",
    "plt.show()\n"
   ],
   "metadata": {
    "collapsed": false,
    "pycharm": {
     "name": "#%%\n"
    }
   }
  },
  {
   "cell_type": "code",
   "execution_count": 225,
   "outputs": [
    {
     "data": {
      "text/plain": "Text(0, 0.5, 'pIC50')"
     },
     "execution_count": 225,
     "metadata": {},
     "output_type": "execute_result"
    },
    {
     "data": {
      "text/plain": "<Figure size 1800x1200 with 0 Axes>"
     },
     "metadata": {},
     "output_type": "display_data"
    },
    {
     "data": {
      "text/plain": "<Figure size 432x288 with 1 Axes>",
      "image/png": "[encoded data removed]"
     },
     "metadata": {
      "needs_background": "light"
     },
     "output_type": "display_data"
    }
   ],
   "source": [
    "plt.figure(dpi=300)\n",
    "f, ax = plt.subplots(1)\n",
    "xs = [t['tid'] for t in trials.trials]\n",
    "ys = [t['misc']['vals']['BCUTp-1h'] for t in trials.trials]\n",
    "ax.set_xlim(xs[0] - 10, xs[-1] + 10)\n",
    "ax.scatter(xs, ys, s=20, linewidth=0.01, alpha=0.75)\n",
    "ax.set_title('feature input select', fontsize=18)\n",
    "ax.set_xlabel('VAdjMat value', fontsize=10)\n",
    "ax.set_ylabel('pIC50', fontsize=10)"
   ],
   "metadata": {
    "collapsed": false,
    "pycharm": {
     "name": "#%%\n"
    }
   }
  },
  {
   "cell_type": "code",
   "execution_count": 233,
   "outputs": [
    {
     "name": "stdout",
     "output_type": "stream",
     "text": [
      "|   iter    |  target   |    AMR    |   ATSc3   |   ATSp4   | BCUTp-1h  |   C2SP2   | Crippe... | ETA_Alpha | Lipoaf... |  MDEC-22  |  MDEC-23  |   MLogP   |   SP-5    |  VAdjMat  |   WPOL    |  Zagreb   |  maxsOH   |  minsssN  |  nBonds2  |    nC     |  nT6Ring  |\n",
      "-------------------------------------------------------------------------------------------------------------------------------------------------------------------------------------------------------------------------------------------------------------------------\n",
      "| \u001B[95m 4       \u001B[0m | \u001B[95m 6.988   \u001B[0m | \u001B[95m 101.7   \u001B[0m | \u001B[95m-0.1719  \u001B[0m | \u001B[95m 1.41e+04\u001B[0m | \u001B[95m 11.21   \u001B[0m | \u001B[95m 1.249   \u001B[0m | \u001B[95m-0.5308  \u001B[0m | \u001B[95m 51.47   \u001B[0m | \u001B[95m 10.45   \u001B[0m | \u001B[95m 33.06   \u001B[0m | \u001B[95m 32.26   \u001B[0m | \u001B[95m 5.517   \u001B[0m | \u001B[95m 4.987   \u001B[0m | \u001B[95m 1.393   \u001B[0m | \u001B[95m 204.5   \u001B[0m | \u001B[95m 335.6   \u001B[0m | \u001B[95m 2.15    \u001B[0m | \u001B[95m 2.783   \u001B[0m | \u001B[95m 133.6   \u001B[0m | \u001B[95m 76.33   \u001B[0m | \u001B[95m 7.26    \u001B[0m |\n",
      "| \u001B[95m 5       \u001B[0m | \u001B[95m 7.109   \u001B[0m | \u001B[95m 465.6   \u001B[0m | \u001B[95m 0.2473  \u001B[0m | \u001B[95m 1.519e+0\u001B[0m | \u001B[95m 10.23   \u001B[0m | \u001B[95m 6.748   \u001B[0m | \u001B[95m 9.189   \u001B[0m | \u001B[95m 34.97   \u001B[0m | \u001B[95m 23.95   \u001B[0m | \u001B[95m 23.22   \u001B[0m | \u001B[95m 34.19   \u001B[0m | \u001B[95m 1.574   \u001B[0m | \u001B[95m 28.54   \u001B[0m | \u001B[95m 4.499   \u001B[0m | \u001B[95m 150.5   \u001B[0m | \u001B[95m 342.8   \u001B[0m | \u001B[95m 3.081   \u001B[0m | \u001B[95m 2.71    \u001B[0m | \u001B[95m 206.2   \u001B[0m | \u001B[95m 5.273   \u001B[0m | \u001B[95m 6.171   \u001B[0m |\n",
      "| \u001B[95m 8       \u001B[0m | \u001B[95m 7.306   \u001B[0m | \u001B[95m 195.6   \u001B[0m | \u001B[95m 0.6194  \u001B[0m | \u001B[95m 2.977e+0\u001B[0m | \u001B[95m 10.2    \u001B[0m | \u001B[95m 1.583   \u001B[0m | \u001B[95m 7.973   \u001B[0m | \u001B[95m 34.34   \u001B[0m | \u001B[95m 23.33   \u001B[0m | \u001B[95m 17.96   \u001B[0m | \u001B[95m 22.58   \u001B[0m | \u001B[95m 1.492   \u001B[0m | \u001B[95m 23.35   \u001B[0m | \u001B[95m 5.097   \u001B[0m | \u001B[95m 55.9    \u001B[0m | \u001B[95m 121.3   \u001B[0m | \u001B[95m 4.851   \u001B[0m | \u001B[95m 0.3716  \u001B[0m | \u001B[95m 55.4    \u001B[0m | \u001B[95m 18.28   \u001B[0m | \u001B[95m 3.353   \u001B[0m |\n",
      "| \u001B[95m 34      \u001B[0m | \u001B[95m 7.808   \u001B[0m | \u001B[95m 515.2   \u001B[0m | \u001B[95m 0.1324  \u001B[0m | \u001B[95m 1.875e+0\u001B[0m | \u001B[95m 10.04   \u001B[0m | \u001B[95m 4.6     \u001B[0m | \u001B[95m-1.322   \u001B[0m | \u001B[95m 53.92   \u001B[0m | \u001B[95m 7.226   \u001B[0m | \u001B[95m 20.03   \u001B[0m | \u001B[95m 14.57   \u001B[0m | \u001B[95m 3.379   \u001B[0m | \u001B[95m 9.118   \u001B[0m | \u001B[95m 9.67    \u001B[0m | \u001B[95m 22.16   \u001B[0m | \u001B[95m 679.0   \u001B[0m | \u001B[95m 9.679   \u001B[0m | \u001B[95m 0.8152  \u001B[0m | \u001B[95m 49.24   \u001B[0m | \u001B[95m 54.81   \u001B[0m | \u001B[95m 8.922   \u001B[0m |\n",
      "=========================================================================================================================================================================================================================================================================\n",
      "{'target': 7.808469707014602, 'params': {'AMR': 515.1920169054267, 'ATSc3': 0.13238061882950047, 'ATSp4': 18753.863318849217, 'BCUTp-1h': 10.04499977474811, 'C2SP2': 4.599811844672566, 'CrippenLogP': -1.3219657527906996, 'ETA_Alpha': 53.91751929078399, 'LipoaffinityIndex': 7.225983438248109, 'MDEC-22': 20.02621660778231, 'MDEC-23': 14.572712701190378, 'MLogP': 3.3794121547388514, 'SP-5': 9.118247900859368, 'VAdjMat': 9.670456363561005, 'WPOL': 22.156743075104643, 'Zagreb': 679.0441820010102, 'maxsOH': 9.678555514981896, 'minsssN': 0.8152233416421263, 'nBonds2': 49.24043274609879, 'nC': 54.8060398294375, 'nT6Ring': 8.92162384685246}}\n"
     ]
    }
   ],
   "source": [
    "from bayes_opt import BayesianOptimization\n",
    "\n",
    "\n",
    "def max1_objective(**kwargs):\n",
    "    input_name = ['MDEC-23', 'MLogP', 'LipoaffinityIndex', 'maxsOH', 'nC', 'nT6Ring', 'minsssN', 'BCUTp-1h', 'C2SP2',\n",
    "                  'AMR', 'WPOL', 'SP-5', 'CrippenLogP', 'MDEC-22', 'nBonds2', 'Zagreb', 'ATSp4', 'VAdjMat', 'ATSc3',\n",
    "                  'ETA_Alpha']\n",
    "    X = []\n",
    "    for i in input_name:\n",
    "        X.append(kwargs.get(i))\n",
    "    X = np.fromiter(kwargs.values(), dtype=float)\n",
    "    # print(X)\n",
    "    ret = blended_predictions(np.expand_dims(X, axis=0))\n",
    "    return ret[0]\n",
    "\n",
    "\n",
    "pbouds = {\n",
    "    'MDEC-23': (0, 55),\n",
    "    'MLogP': (1, 6),\n",
    "    'LipoaffinityIndex': (-5, 25),\n",
    "    'maxsOH': (0, 13),\n",
    "    'nC': (5, 100),\n",
    "    'nT6Ring': (0, 10),\n",
    "    'minsssN': (0, 3),\n",
    "    'BCUTp-1h': (5, 20),\n",
    "    'C2SP2': (0, 25),\n",
    "    'AMR': (54, 520),\n",
    "    'WPOL': (14, 250),\n",
    "    'SP-5': (1, 30),\n",
    "    'CrippenLogP': (-15, 12),\n",
    "    'MDEC-22': (0, 35),\n",
    "    'nBonds2': (22, 343),\n",
    "    'Zagreb': (62, 750),\n",
    "    'ATSp4': (700, 20000),\n",
    "    'VAdjMat': (0, 10),\n",
    "    'ATSc3': (-1, 1),\n",
    "    'ETA_Alpha': (5, 75)\n",
    "}\n",
    "optimizer = BayesianOptimization(\n",
    "    f=max1_objective,\n",
    "    pbounds=pbouds,\n",
    "    verbose=1,\n",
    "    random_state=1,\n",
    ")\n",
    "optimizer.maximize(\n",
    "    n_iter=200\n",
    ")\n",
    "\n",
    "print(optimizer.max)"
   ],
   "metadata": {
    "collapsed": false,
    "pycharm": {
     "name": "#%%\n"
    }
   }
  },
  {
   "cell_type": "code",
   "execution_count": null,
   "outputs": [],
   "source": [
    "# 遗传算法"
   ],
   "metadata": {
    "collapsed": false,
    "pycharm": {
     "name": "#%%\n"
    }
   }
  }
 ],
 "metadata": {
  "kernelspec": {
   "display_name": "Python 3",
   "language": "python",
   "name": "python3"
  },
  "language_info": {
   "codemirror_mode": {
    "name": "ipython",
    "version": 2
   },
   "file_extension": ".py",
   "mimetype": "text/x-python",
   "name": "python",
   "nbconvert_exporter": "python",
   "pygments_lexer": "ipython2",
   "version": "2.7.6"
  }
 },
 "nbformat": 4,
 "nbformat_minor": 0
}